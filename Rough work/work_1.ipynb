{
 "cells": [
  {
   "cell_type": "code",
   "execution_count": null,
   "id": "316b22e1",
   "metadata": {},
   "outputs": [],
   "source": []
  },
  {
   "cell_type": "code",
   "execution_count": 2,
   "id": "56692196",
   "metadata": {},
   "outputs": [],
   "source": [
    "import pandas as pd\n",
    "import numpy as np\n",
    "from datetime import datetime, timedelta\n",
    "import random\n",
    "\n",
    "# 1. Set number of rows\n",
    "num_rows = np.random.randint(500, 1001)\n",
    "\n",
    "# 2. Generate mock data\n",
    "data = {\n",
    "    'wallet_address': [f'0x{\"\".join(np.random.choice(list(\"abcdef1234567890\"), 40))}' for _ in range(num_rows)],\n",
    "    'token': np.random.choice(['ETH', 'USDT', 'BTC', 'BNB', 'MATIC'], size=num_rows),\n",
    "    'amount': np.round(np.random.uniform(0.01, 1000.0, size=num_rows), 2),\n",
    "    'timestamp': [datetime.now() - timedelta(minutes=random.randint(0, 100000)) for _ in range(num_rows)]\n",
    "}\n",
    "\n",
    "# 3. Create DataFrame\n",
    "df = pd.DataFrame(data)\n",
    "\n",
    "\n"
   ]
  },
  {
   "cell_type": "code",
   "execution_count": 3,
   "id": "f0244871",
   "metadata": {},
   "outputs": [
    {
     "data": {
      "text/html": [
       "<div>\n",
       "<style scoped>\n",
       "    .dataframe tbody tr th:only-of-type {\n",
       "        vertical-align: middle;\n",
       "    }\n",
       "\n",
       "    .dataframe tbody tr th {\n",
       "        vertical-align: top;\n",
       "    }\n",
       "\n",
       "    .dataframe thead th {\n",
       "        text-align: right;\n",
       "    }\n",
       "</style>\n",
       "<table border=\"1\" class=\"dataframe\">\n",
       "  <thead>\n",
       "    <tr style=\"text-align: right;\">\n",
       "      <th></th>\n",
       "      <th>wallet_address</th>\n",
       "      <th>token</th>\n",
       "      <th>amount</th>\n",
       "      <th>timestamp</th>\n",
       "    </tr>\n",
       "  </thead>\n",
       "  <tbody>\n",
       "    <tr>\n",
       "      <th>0</th>\n",
       "      <td>0x2d1fb3416f65b458fae694ad3ae89dd5b4c0e0da</td>\n",
       "      <td>USDT</td>\n",
       "      <td>474.88</td>\n",
       "      <td>2025-06-02 18:01:33.260750</td>\n",
       "    </tr>\n",
       "    <tr>\n",
       "      <th>1</th>\n",
       "      <td>0x8dcf5316912f89574b77dc350330d76550d0944d</td>\n",
       "      <td>MATIC</td>\n",
       "      <td>493.66</td>\n",
       "      <td>2025-06-23 07:57:33.260783</td>\n",
       "    </tr>\n",
       "    <tr>\n",
       "      <th>2</th>\n",
       "      <td>0x181e5d0c9d75033f9d6c39bcc5d69c17bb3516e0</td>\n",
       "      <td>BNB</td>\n",
       "      <td>126.53</td>\n",
       "      <td>2025-06-17 10:17:33.260796</td>\n",
       "    </tr>\n",
       "    <tr>\n",
       "      <th>3</th>\n",
       "      <td>0xfd02cf7b9b6e475093c24aadfb2c205e4c7bd214</td>\n",
       "      <td>USDT</td>\n",
       "      <td>534.39</td>\n",
       "      <td>2025-06-23 12:38:33.260805</td>\n",
       "    </tr>\n",
       "    <tr>\n",
       "      <th>4</th>\n",
       "      <td>0x4f53ca139787a820973c942e4369f75bac60f332</td>\n",
       "      <td>MATIC</td>\n",
       "      <td>535.47</td>\n",
       "      <td>2025-06-10 18:25:33.260812</td>\n",
       "    </tr>\n",
       "  </tbody>\n",
       "</table>\n",
       "</div>"
      ],
      "text/plain": [
       "                               wallet_address  token  amount  \\\n",
       "0  0x2d1fb3416f65b458fae694ad3ae89dd5b4c0e0da   USDT  474.88   \n",
       "1  0x8dcf5316912f89574b77dc350330d76550d0944d  MATIC  493.66   \n",
       "2  0x181e5d0c9d75033f9d6c39bcc5d69c17bb3516e0    BNB  126.53   \n",
       "3  0xfd02cf7b9b6e475093c24aadfb2c205e4c7bd214   USDT  534.39   \n",
       "4  0x4f53ca139787a820973c942e4369f75bac60f332  MATIC  535.47   \n",
       "\n",
       "                   timestamp  \n",
       "0 2025-06-02 18:01:33.260750  \n",
       "1 2025-06-23 07:57:33.260783  \n",
       "2 2025-06-17 10:17:33.260796  \n",
       "3 2025-06-23 12:38:33.260805  \n",
       "4 2025-06-10 18:25:33.260812  "
      ]
     },
     "execution_count": 3,
     "metadata": {},
     "output_type": "execute_result"
    }
   ],
   "source": [
    "df.head()"
   ]
  },
  {
   "cell_type": "code",
   "execution_count": 4,
   "id": "2a19630d",
   "metadata": {},
   "outputs": [
    {
     "name": "stdout",
     "output_type": "stream",
     "text": [
      "                               wallet_address  token  amount  \\\n",
      "0  0x2d1fb3416f65b458fae694ad3ae89dd5b4c0e0da   USDT  474.88   \n",
      "1  0x8dcf5316912f89574b77dc350330d76550d0944d  MATIC  493.66   \n",
      "2  0x181e5d0c9d75033f9d6c39bcc5d69c17bb3516e0    BNB  126.53   \n",
      "3  0xfd02cf7b9b6e475093c24aadfb2c205e4c7bd214   USDT  534.39   \n",
      "4  0x4f53ca139787a820973c942e4369f75bac60f332  MATIC  535.47   \n",
      "\n",
      "                   timestamp  \n",
      "0 2025-06-02 18:01:33.260750  \n",
      "1 2025-06-23 07:57:33.260783  \n",
      "2 2025-06-17 10:17:33.260796  \n",
      "3 2025-06-23 12:38:33.260805  \n",
      "4 2025-06-10 18:25:33.260812  \n"
     ]
    }
   ],
   "source": [
    "# 4. Parse 'timestamp' column as datetime (if not already)\n",
    "df['timestamp'] = pd.to_datetime(df['timestamp'])\n",
    "\n",
    "# Preview\n",
    "print(df.head())"
   ]
  }
 ],
 "metadata": {
  "kernelspec": {
   "display_name": "pythonz",
   "language": "python",
   "name": "python3"
  },
  "language_info": {
   "codemirror_mode": {
    "name": "ipython",
    "version": 3
   },
   "file_extension": ".py",
   "mimetype": "text/x-python",
   "name": "python",
   "nbconvert_exporter": "python",
   "pygments_lexer": "ipython3",
   "version": "3.13.3"
  }
 },
 "nbformat": 4,
 "nbformat_minor": 5
}
