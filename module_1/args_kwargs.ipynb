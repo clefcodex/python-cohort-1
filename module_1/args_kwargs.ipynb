{
 "cells": [
  {
   "cell_type": "code",
   "execution_count": 1,
   "id": "08ecd192",
   "metadata": {},
   "outputs": [
    {
     "name": "stdout",
     "output_type": "stream",
     "text": [
      "[1, 2, 5, 7, 81, 34]\n",
      "1 2 5 7 81 34\n"
     ]
    }
   ],
   "source": [
    "# Unpacking\n",
    "nums = [1, 2, 5, 7, 81, 34]\n",
    "\n",
    "print(nums)\n",
    "print(*nums)"
   ]
  },
  {
   "cell_type": "markdown",
   "id": "9627b40f",
   "metadata": {},
   "source": [
    "* args means extra arguments"
   ]
  },
  {
   "cell_type": "code",
   "execution_count": null,
   "id": "df3fcd72",
   "metadata": {},
   "outputs": [
    {
     "name": "stdout",
     "output_type": "stream",
     "text": [
      "1\n",
      "(2, 3, 4)\n"
     ]
    },
    {
     "data": {
      "text/plain": [
       "10"
      ]
     },
     "execution_count": 12,
     "metadata": {},
     "output_type": "execute_result"
    }
   ],
   "source": [
    "# args extra arguments\n",
    "# *args can be named anything like *abc\n",
    "\n",
    "def sum(a, *args):\n",
    "    print(a)\n",
    "    print(args)\n",
    "    sum = a\n",
    "    for i in args:\n",
    "        sum += i\n",
    "    return sum\n",
    "\n",
    "sum(1, 2, 3, 4)"
   ]
  },
  {
   "cell_type": "code",
   "execution_count": 15,
   "id": "862524c2",
   "metadata": {},
   "outputs": [
    {
     "data": {
      "text/plain": [
       "120"
      ]
     },
     "execution_count": 15,
     "metadata": {},
     "output_type": "execute_result"
    }
   ],
   "source": [
    "def multiply(a, *abc):\n",
    "    multiply = a\n",
    "    for i in abc:\n",
    "        multiply *= i\n",
    "    return multiply\n",
    "\n",
    "multiply(1, 2, 3, 4, 5)"
   ]
  },
  {
   "cell_type": "markdown",
   "id": "851cb0f0",
   "metadata": {},
   "source": [
    "* Kwargs"
   ]
  },
  {
   "cell_type": "code",
   "execution_count": 17,
   "id": "62bfd83f",
   "metadata": {},
   "outputs": [
    {
     "name": "stdout",
     "output_type": "stream",
     "text": [
      "Ordered a large pizza with the following toppings:\n",
      "- pepperoni\n",
      "- olives\n",
      "\n",
      "Details of the order are:\n",
      "- delivery: True\n",
      "- tip: 5\n"
     ]
    }
   ],
   "source": [
    "def order_pizza(size, *toppings, **details):\n",
    "    print(f\"Ordered a {size} pizza with the following toppings:\")\n",
    "\n",
    "    for topping in toppings:\n",
    "        print(f\"- {topping}\")\n",
    "    print(\"\\nDetails of the order are:\")\n",
    "    for key, value in details.items():\n",
    "        print(f\"- {key}: {value}\")\n",
    "\n",
    "\n",
    "order_pizza(\"large\", \"pepperoni\", \"olives\", delivery=True, tip=5)"
   ]
  },
  {
   "cell_type": "markdown",
   "id": "cb7e5c56",
   "metadata": {},
   "source": [
    "* round {price:,.2f}"
   ]
  },
  {
   "cell_type": "code",
   "execution_count": 23,
   "id": "06f236d2",
   "metadata": {},
   "outputs": [
    {
     "data": {
      "text/plain": [
       "3.0"
      ]
     },
     "execution_count": 23,
     "metadata": {},
     "output_type": "execute_result"
    }
   ],
   "source": [
    "round(3.000, 2)"
   ]
  },
  {
   "cell_type": "code",
   "execution_count": 31,
   "id": "4a137d0d",
   "metadata": {},
   "outputs": [
    {
     "data": {
      "text/plain": [
       "3.144"
      ]
     },
     "execution_count": 31,
     "metadata": {},
     "output_type": "execute_result"
    }
   ],
   "source": [
    "round(3.1435678, 3)"
   ]
  },
  {
   "cell_type": "code",
   "execution_count": 32,
   "id": "7e112032",
   "metadata": {},
   "outputs": [
    {
     "name": "stdout",
     "output_type": "stream",
     "text": [
      "Wale\n",
      "Wale\n",
      "None\n",
      "Not provided\n"
     ]
    }
   ],
   "source": [
    "user = {\n",
    "    \"name\": \"Wale\",\n",
    "    \"age\": 30\n",
    "}\n",
    "\n",
    "# Normal access\n",
    "print(user[\"name\"])       # Output: Wale\n",
    "\n",
    "# Using get\n",
    "print(user.get(\"name\"))   # Output: Wale\n",
    "print(user.get(\"email\"))  # Output: None\n",
    "print(user.get(\"email\", \"Not provided\"))  # Output: Not provided\n"
   ]
  }
 ],
 "metadata": {
  "kernelspec": {
   "display_name": "pythonz",
   "language": "python",
   "name": "python3"
  },
  "language_info": {
   "codemirror_mode": {
    "name": "ipython",
    "version": 3
   },
   "file_extension": ".py",
   "mimetype": "text/x-python",
   "name": "python",
   "nbconvert_exporter": "python",
   "pygments_lexer": "ipython3",
   "version": "3.13.3"
  }
 },
 "nbformat": 4,
 "nbformat_minor": 5
}
