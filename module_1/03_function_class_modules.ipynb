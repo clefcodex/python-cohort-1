{
 "cells": [
  {
   "cell_type": "markdown",
   "id": "82084b33",
   "metadata": {},
   "source": [
    "# Functions, Classes and Modules "
   ]
  },
  {
   "cell_type": "markdown",
   "id": "3e3abf65",
   "metadata": {},
   "source": [
    "## 1. Functions in Python\n",
    "\n",
    "What Is a Function?\n",
    "\n",
    "A function is a reusable block of code that performs a specific task. Functions help reduce repetition and improve code organization."
   ]
  },
  {
   "cell_type": "code",
   "execution_count": null,
   "id": "8abb2a50",
   "metadata": {},
   "outputs": [
    {
     "ename": "NameError",
     "evalue": "name 'result' is not defined",
     "output_type": "error",
     "traceback": [
      "\u001b[31m---------------------------------------------------------------------------\u001b[39m",
      "\u001b[31mNameError\u001b[39m                                 Traceback (most recent call last)",
      "\u001b[36mCell\u001b[39m\u001b[36m \u001b[39m\u001b[32mIn[1]\u001b[39m\u001b[32m, line 8\u001b[39m\n\u001b[32m      5\u001b[39m \u001b[38;5;28;01mdef\u001b[39;00m\u001b[38;5;250m \u001b[39m\u001b[34mweb3\u001b[39m(crypto):\n\u001b[32m      6\u001b[39m     \u001b[38;5;28;01mreturn\u001b[39;00m result\n\u001b[32m----> \u001b[39m\u001b[32m8\u001b[39m \u001b[43mweb3\u001b[49m\u001b[43m(\u001b[49m\u001b[33;43m'\u001b[39;49m\u001b[33;43mBTC\u001b[39;49m\u001b[33;43m'\u001b[39;49m\u001b[43m)\u001b[49m\n",
      "\u001b[36mCell\u001b[39m\u001b[36m \u001b[39m\u001b[32mIn[1]\u001b[39m\u001b[32m, line 6\u001b[39m, in \u001b[36mweb3\u001b[39m\u001b[34m(crypto)\u001b[39m\n\u001b[32m      5\u001b[39m \u001b[38;5;28;01mdef\u001b[39;00m\u001b[38;5;250m \u001b[39m\u001b[34mweb3\u001b[39m(crypto):\n\u001b[32m----> \u001b[39m\u001b[32m6\u001b[39m     \u001b[38;5;28;01mreturn\u001b[39;00m \u001b[43mresult\u001b[49m\n",
      "\u001b[31mNameError\u001b[39m: name 'result' is not defined"
     ]
    }
   ],
   "source": [
    "# # Basic Syntax:\n",
    "# #x = [1,2,4,5,6,7]\n",
    "# # -> len(x) -> In-Built Function\n",
    "\n",
    "# def web3(crypto):\n",
    "#     return result\n",
    "\n",
    "# web3('BTC')"
   ]
  },
  {
   "cell_type": "code",
   "execution_count": 2,
   "id": "61d6f05c",
   "metadata": {},
   "outputs": [
    {
     "name": "stdout",
     "output_type": "stream",
     "text": [
      "The sum is  8\n"
     ]
    }
   ],
   "source": [
    "def add():\n",
    "    sum=2+6\n",
    "    print(\"The sum is \", sum)\n",
    "\n",
    "add()"
   ]
  },
  {
   "cell_type": "markdown",
   "id": "6724b230",
   "metadata": {},
   "source": [
    "### Function Arguments and Parameters\n",
    "\n",
    "Positional: Matched by order.\n",
    "\n",
    "#### Type of Arguments\n",
    "\n",
    "- Positional Argument\n",
    "- Keyword Argument\n",
    "\n",
    "Keyword: Matched by name (e.g., func(name=\"Alice\")).\n",
    "\n",
    "*args: Accepts extra positional arguments as a tuple.\n",
    "\n",
    "**kwargs: Accepts extra keyword arguments as a dictionary."
   ]
  },
  {
   "cell_type": "markdown",
   "id": "c06fff4e",
   "metadata": {},
   "source": [
    "### Positional Argument"
   ]
  },
  {
   "cell_type": "code",
   "execution_count": 3,
   "id": "917a1dab",
   "metadata": {},
   "outputs": [
    {
     "name": "stdout",
     "output_type": "stream",
     "text": [
      "6\n"
     ]
    }
   ],
   "source": [
    "def add_positional(a,b,c) -> int:\n",
    "    sum = a+b+c\n",
    "    return sum\n",
    "\n",
    "result = add_positional(1,2,3)\n",
    "print(result)"
   ]
  },
  {
   "cell_type": "code",
   "execution_count": 4,
   "id": "6c6eda1e",
   "metadata": {},
   "outputs": [
    {
     "data": {
      "text/plain": [
       "6"
      ]
     },
     "execution_count": 4,
     "metadata": {},
     "output_type": "execute_result"
    }
   ],
   "source": [
    "def multiply(a, b) -> int:\n",
    "    return a*b\n",
    "\n",
    "\n",
    "multiply(2, 3)"
   ]
  },
  {
   "cell_type": "markdown",
   "id": "98027f2e",
   "metadata": {},
   "source": [
    "### Keyword Argument"
   ]
  },
  {
   "cell_type": "code",
   "execution_count": 5,
   "id": "21a5a278",
   "metadata": {},
   "outputs": [
    {
     "name": "stdout",
     "output_type": "stream",
     "text": [
      "Name Alice\n",
      "Age 30\n"
     ]
    }
   ],
   "source": [
    "def add_keyword(name=\"Alice\", age=30):\n",
    "    print(\"Name\", name)\n",
    "    print(\"Age\", age)\n",
    "\n",
    "# add_keyword(name=\"Bob\", age=25)\n",
    "add_keyword()"
   ]
  },
  {
   "cell_type": "markdown",
   "id": "a09c33e1",
   "metadata": {},
   "source": [
    "### *args Arguments"
   ]
  },
  {
   "cell_type": "code",
   "execution_count": 5,
   "id": "0daeab54",
   "metadata": {},
   "outputs": [],
   "source": [
    "def add_args(*args):\n",
    "    print(type(args))\n",
    "    for num in args:\n",
    "        print(num, end=\" \")"
   ]
  },
  {
   "cell_type": "code",
   "execution_count": 6,
   "id": "e284a25c",
   "metadata": {},
   "outputs": [
    {
     "name": "stdout",
     "output_type": "stream",
     "text": [
      "<class 'tuple'>\n",
      "1 2 4 3 5 6 7 "
     ]
    }
   ],
   "source": [
    "add_args(1,2,4,3,5,6,7)"
   ]
  },
  {
   "cell_type": "markdown",
   "id": "145383c9",
   "metadata": {},
   "source": [
    "### **kwargs Arguments\n"
   ]
  },
  {
   "cell_type": "code",
   "execution_count": 7,
   "id": "3e1b0dc2",
   "metadata": {},
   "outputs": [],
   "source": [
    "def add_kwargs(**kwargs):\n",
    "    print(type(kwargs))\n",
    "    for key, value in kwargs.items():\n",
    "        print(f\"{key}: {value}\")"
   ]
  },
  {
   "cell_type": "code",
   "execution_count": 8,
   "id": "4f4137ae",
   "metadata": {},
   "outputs": [
    {
     "name": "stdout",
     "output_type": "stream",
     "text": [
      "<class 'dict'>\n",
      "name: David\n",
      "age: 35\n",
      "city: New York\n"
     ]
    }
   ],
   "source": [
    "add_kwargs(name=\"David\", age=35, city=\"New York\")"
   ]
  },
  {
   "cell_type": "code",
   "execution_count": 9,
   "id": "8242cfcc",
   "metadata": {},
   "outputs": [],
   "source": [
    "#x = [2,4,5,6,7,8,10,5]\n",
    "\n",
    "def average(number) -> int:\n",
    "\n",
    "    total = 0\n",
    "    for i in number:\n",
    "        total+= i\n",
    "    avg = total/len(number)\n",
    "\n",
    "    return avg"
   ]
  },
  {
   "cell_type": "code",
   "execution_count": 10,
   "id": "2d25bac6",
   "metadata": {},
   "outputs": [
    {
     "name": "stdout",
     "output_type": "stream",
     "text": [
      "46.0\n"
     ]
    }
   ],
   "source": [
    "price = [1,33,44,55,66,77]\n",
    "avg = average(price)\n",
    "print(avg)"
   ]
  },
  {
   "cell_type": "code",
   "execution_count": 11,
   "id": "1154eed8",
   "metadata": {},
   "outputs": [],
   "source": [
    "# Get Crypto Price Change Percentage\n",
    "\n",
    "def calculate_price_changes(old_price,new_price):\n",
    "    change = ((new_price-old_price) / old_price) * 100\n",
    "    return round(change, 2)"
   ]
  },
  {
   "cell_type": "code",
   "execution_count": 12,
   "id": "7d344659",
   "metadata": {},
   "outputs": [
    {
     "name": "stdout",
     "output_type": "stream",
     "text": [
      "BTC Price Change : 25.7%\n"
     ]
    }
   ],
   "source": [
    "btc_change = calculate_price_changes(100000,125700)\n",
    "print(f\"BTC Price Change : {btc_change}%\")"
   ]
  },
  {
   "cell_type": "code",
   "execution_count": 16,
   "id": "c5a6309a",
   "metadata": {},
   "outputs": [
    {
     "name": "stdout",
     "output_type": "stream",
     "text": [
      "Bitcoin is currently trading at $110,000.00\n",
      "Ethereum is currently trading at $1,800.00\n"
     ]
    }
   ],
   "source": [
    "def format_crypto_price(name, price, symbol=\"$\"):\n",
    "    return f\"{name} is currently trading at {symbol}{price:,.2f}\"\n",
    "    # return f\"{name} is currently trading at {symbol}{round(price, 3)}\"\n",
    "\n",
    "print(format_crypto_price(\"Bitcoin\", 110000))\n",
    "print(format_crypto_price(\"Ethereum\", 1800, \"$\"))"
   ]
  },
  {
   "cell_type": "code",
   "execution_count": 14,
   "id": "3a6989a7",
   "metadata": {},
   "outputs": [
    {
     "name": "stdout",
     "output_type": "stream",
     "text": [
      "The price of BTC is $28000\n"
     ]
    }
   ],
   "source": [
    "name = \"BTC\"\n",
    "price = \"28000\"\n",
    "\n",
    "print(\"The price of \" + name + \" is $\" + price)"
   ]
  },
  {
   "cell_type": "code",
   "execution_count": 15,
   "id": "3d029eb3",
   "metadata": {},
   "outputs": [
    {
     "name": "stdout",
     "output_type": "stream",
     "text": [
      "The price of  BTC is $ 28000\n"
     ]
    }
   ],
   "source": [
    "name = \"BTC\"\n",
    "price = 28000\n",
    "print(\"The price of \", name, \"is $\",price)\n",
    "#print(\"The price of \" + name + \" is $\" + price)"
   ]
  },
  {
   "cell_type": "markdown",
   "id": "06d96102",
   "metadata": {},
   "source": [
    "# Classes in Python\n",
    "\n",
    "### What Are Classes?\n",
    "\n",
    "Classes are blueprints (templates) for creating objects. An object is an instance of a class that can hold data (attributes) and perform actions (methods). Classes are ideal for modeling real-world entities, like a cryptocurrency or a portfolio.\n",
    "\n",
    "### Defining a Class\n",
    "-- Use the class keyword to define a class.\n",
    "\n",
    "-- Classes typically include:\n",
    "- Attributes: Variables that store data.\n",
    "- Methods: Functions that define the behavior of the class.\n",
    "- Constructor (__init__): A special method to initialize objects.\n",
    "\n"
   ]
  },
  {
   "cell_type": "markdown",
   "id": "27874245",
   "metadata": {},
   "source": [
    "## What is self in a Class?\n",
    "\n",
    "-- Definition: self is the first parameter in instance methods of a class. It represents the instance (object) on which the method is called. While self is not a reserved keyword in Python, it’s the standard convention for naming this parameter.\n",
    "\n",
    "-- Purpose: self allows methods to:\n",
    "- Access and modify the instance’s attributes.\n",
    "- Call other methods of the same instance.\n",
    "- Differentiate between instance-specific data and class-level data.\n",
    "\n",
    "-- When Used: self is used in instance methods (not static or class methods) and in the __init__ constructor to initialize instance attributes.\n",
    "\n"
   ]
  },
  {
   "cell_type": "markdown",
   "id": "72f30b94",
   "metadata": {},
   "source": [
    "### Defining a Class"
   ]
  },
  {
   "cell_type": "code",
   "execution_count": 18,
   "id": "0d9837f9",
   "metadata": {
    "vscode": {
     "languageId": "ruby"
    }
   },
   "outputs": [],
   "source": [
    "class CryptoWallet:\n",
    "    # Constructor\n",
    "    def __init__(self, owner):\n",
    "        self.owner = owner\n",
    "        self.balance = {}\n",
    "\n",
    "    def deposit(self,token, amount):\n",
    "        self.balance[token] = self.balance.get(token,0) + amount\n",
    "\n",
    "    def withdraw(self, token, amount):\n",
    "        if self.balance.get(token,0) >= amount:\n",
    "            self.balance[token] -= amount\n",
    "            return True\n",
    "        else:\n",
    "            return False\n",
    "\n",
    "    def view_balance(self):\n",
    "        return self.balance\n",
    "        \n",
    "\n",
    "    "
   ]
  },
  {
   "cell_type": "code",
   "execution_count": 19,
   "id": "5495190c",
   "metadata": {},
   "outputs": [
    {
     "name": "stdout",
     "output_type": "stream",
     "text": [
      "{'ETH': 0.7, 'BTC': 0.1}\n"
     ]
    }
   ],
   "source": [
    "wallet = CryptoWallet(\"Joseph\")\n",
    "wallet.deposit(\"ETH\", 0.7)\n",
    "wallet.deposit(\"BTC\", 0.1)\n",
    "\n",
    "print(wallet.view_balance())\n"
   ]
  },
  {
   "cell_type": "code",
   "execution_count": 20,
   "id": "80c1d042",
   "metadata": {},
   "outputs": [
    {
     "name": "stdout",
     "output_type": "stream",
     "text": [
      "withdrawal success:  True\n",
      "{'ETH': 0.6, 'BTC': 0.1}\n"
     ]
    }
   ],
   "source": [
    "success = wallet.withdraw(\"ETH\", 0.1)\n",
    "print(\"withdrawal success: \", success)\n",
    "print(wallet.view_balance())"
   ]
  },
  {
   "cell_type": "code",
   "execution_count": null,
   "id": "88caecf9",
   "metadata": {},
   "outputs": [],
   "source": [
    "class Cryptocurrency:\n",
    "    \"\"\"Class to represent a cryptocurrency\"\"\"\n",
    "    def __init__(self,name, symbol, price, quantity):\n",
    "        self.name = name        # e.g Bitcoin \n",
    "        self.price = price      # current price in usd\n",
    "        self.symbol = symbol        # e.g btc\n",
    "        self.quantity = quantity  # amount held\n",
    "\n",
    "    def get_value(self):\n",
    "        \"\"\"Calculate the total value of the holding.\"\"\"\n",
    "        return self.price * self.quantity\n",
    "    \n",
    "    def updated_price(self, new_price):\n",
    "        \"\"\"Update the cryptocurrency price\"\"\"\n",
    "        self.price = new_price\n",
    "\n",
    "\n",
    "class portfolio:\n",
    "    \"\"\"Class to manage a portfolio of cryptocurrencies.\"\"\"\n",
    "    def __init__(self):\n",
    "        self.holdings = {} # dictionary to store cryptocurrency\n",
    "\n",
    "    def add_crypto(self, crypto):\n",
    "        \"\"\"Add a cryptocurrency to the portfolio\"\"\"\n",
    "        self.holdings[crypto.symbol] = crypto\n",
    "\n",
    "\n",
    "    def get_total_value(self):\n",
    "        \"\"\"Claculate the total value of the portfolio.\"\"\"\n",
    "        total = sum(crypto.get_value() for crypto in self.holdings.values())\n",
    "        return total\n",
    "    \n",
    "    def get_holding(self, symbol):\n",
    "        \"\"\"Retrieves A cryptocurrency by it's symbol\"\"\"\n",
    "        return self.holdings.get(symbol, None)\n",
    "    \n",
    "    def withdraw_crypto(self, symbol, quantity):\n",
    "        \"\"\" Withdraw a specified quantity of a cryptocurrency\"\"\"\n",
    "\n",
    "        crypto = self.get_holding(symbol)\n",
    "\n",
    "        # Check if the cryptocurrency exist\n",
    "        if not crypto:\n",
    "            print(f\"Error: {symbol} not found in the portfolio\")\n",
    "            return False\n",
    "        \n",
    "        # Validate Quantity\n",
    "        if quantity <= 0:\n",
    "            print(f\"Error: Withdrawal quantity must be positive.\")\n",
    "            return False\n",
    "        if quantity > crypto.quantity:\n",
    "            print(f\"Error: Insuffient {symbol} quantity. Available: {crypto.quantity}, Request: {quantity}\")\n",
    "            return False\n",
    "        \n",
    "        # Update quantity\n",
    "        crypto.quantity -= quantity\n",
    "        print(f\"Withdrew {quantity} {symbol}. Remaining: {crypto.quantity}\")\n",
    "\n",
    "        # Remove cryptocurrency if quantity is 0\n",
    "        if crypto.quantity == 0:\n",
    "            del self.holdings[symbol]\n",
    "            print(f\"{symbol} holding removed from portfolio\")\n",
    "\n",
    "        return True\n",
    "\n"
   ]
  },
  {
   "cell_type": "code",
   "execution_count": 27,
   "id": "548d3f50",
   "metadata": {},
   "outputs": [
    {
     "name": "stdout",
     "output_type": "stream",
     "text": [
      "Portfolio Total Value: $117200.00\n"
     ]
    }
   ],
   "source": [
    "# Create cryptocurrency objects\n",
    "bitcoin = Cryptocurrency(\"Bitcoin\",\"BTC\", 117000, 1)\n",
    "etherum = Cryptocurrency(\"Ethereum\", \"ETH\", 500, 0.4)\n",
    "\n",
    "# Create portfolio Objects\n",
    "my_portfolio = portfolio()\n",
    "my_portfolio.add_crypto(bitcoin)\n",
    "my_portfolio.add_crypto(etherum)\n",
    "\n",
    "# Calculate total Portfolio values\n",
    "total_value = my_portfolio.get_total_value()\n",
    "print(f\"Portfolio Total Value: ${total_value:.2f}\")\n"
   ]
  },
  {
   "cell_type": "code",
   "execution_count": 28,
   "id": "98a8536d",
   "metadata": {},
   "outputs": [
    {
     "name": "stdout",
     "output_type": "stream",
     "text": [
      "New Bitcoin Price: $100000\n",
      "Updated Portfolio Value: $100200.00\n"
     ]
    }
   ],
   "source": [
    "bitcoin.updated_price(100000)\n",
    "print(f\"New Bitcoin Price: ${bitcoin.price}\")\n",
    "print(f\"Updated Portfolio Value: ${my_portfolio.get_total_value():.2f}\")"
   ]
  },
  {
   "cell_type": "code",
   "execution_count": 29,
   "id": "34ed713c",
   "metadata": {},
   "outputs": [
    {
     "name": "stdout",
     "output_type": "stream",
     "text": [
      "Withdrew 0.2 ETH. Remaining: 0.2\n",
      "Portfolio Value after withdrawing 0.2 ETH: $100100.00\n"
     ]
    }
   ],
   "source": [
    "my_portfolio.withdraw_crypto(\"ETH\", 0.2)\n",
    "print(f\"Portfolio Value after withdrawing 0.2 ETH: ${my_portfolio.get_total_value():.2f}\")\n"
   ]
  }
 ],
 "metadata": {
  "kernelspec": {
   "display_name": "pythonz",
   "language": "python",
   "name": "python3"
  },
  "language_info": {
   "codemirror_mode": {
    "name": "ipython",
    "version": 3
   },
   "file_extension": ".py",
   "mimetype": "text/x-python",
   "name": "python",
   "nbconvert_exporter": "python",
   "pygments_lexer": "ipython3",
   "version": "3.13.3"
  }
 },
 "nbformat": 4,
 "nbformat_minor": 5
}
