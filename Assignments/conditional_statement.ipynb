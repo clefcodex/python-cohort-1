{
 "cells": [
  {
   "cell_type": "code",
   "execution_count": 3,
   "id": "ed599968",
   "metadata": {},
   "outputs": [
    {
     "name": "stdout",
     "output_type": "stream",
     "text": [
      "Bullish\n"
     ]
    }
   ],
   "source": [
    "# Token Price Classification\n",
    "#  Description: Classify a token’s price movement as “Bullish” if it increased, “Bearish” if decreased.\n",
    "#  Input: Previous price (e.g., 2.0), Current price (e.g., 2.3)\n",
    "#  Output: Bullish\n",
    "\n",
    "previous_price = 2.0\n",
    "current_price = 2.3\n",
    "\n",
    "if current_price > previous_price:\n",
    "    print(\"Bullish\")\n",
    "else:\n",
    "    print(\"Bearish\")"
   ]
  },
  {
   "cell_type": "code",
   "execution_count": 9,
   "id": "ea2250b7",
   "metadata": {},
   "outputs": [
    {
     "name": "stdout",
     "output_type": "stream",
     "text": [
      "High gas fee alert!\n"
     ]
    }
   ],
   "source": [
    "# Gas Fee Alert System\n",
    "#  Description: Alert if Ethereum gas fee exceeds a given threshold (e.g., 100 Gwei).\n",
    "#  Input: Gas fee (e.g., 120)\n",
    "#  Output: \"High gas fee alert!\"\n",
    "\n",
    "gas_fee = 120\n",
    "\n",
    "if gas_fee >= 100:\n",
    "    print(\"High gas fee alert!\")\n",
    "else:\n",
    "    print(\"Gas fee is ok\")"
   ]
  },
  {
   "cell_type": "code",
   "execution_count": 13,
   "id": "9b1b59f0",
   "metadata": {},
   "outputs": [
    {
     "name": "stdout",
     "output_type": "stream",
     "text": [
      "Whale wallet\n"
     ]
    }
   ],
   "source": [
    "# Detect Whale Wallet\n",
    "#  Description: Identify if a wallet is a whale based on token balance (>10,000 tokens).\n",
    "#  Input: Token balance (e.g., 15,000)\n",
    "#  Output: Whale wallet\n",
    "\n",
    "token_balance = 15000\n",
    "\n",
    "if token_balance > 10000:\n",
    "    print(\"Whale wallet\")\n",
    "else:\n",
    "    print(\"This is not a Whale wallet\")"
   ]
  },
  {
   "cell_type": "code",
   "execution_count": 14,
   "id": "e1a05e38",
   "metadata": {},
   "outputs": [
    {
     "name": "stdout",
     "output_type": "stream",
     "text": [
      "Suspicious\n"
     ]
    }
   ],
   "source": [
    "# Token Transfer Flag\n",
    "#  Description: Flag a transaction as “Suspicious” if the amount is above 1 million tokens.\n",
    "#  Input: Transfer amount (e.g., 1,200,000)\n",
    "#  Output: Suspicious\n",
    "\n",
    "transfer_amount = 1200000\n",
    "\n",
    "if transfer_amount > 1000000:\n",
    "    print(\"Suspicious\")"
   ]
  },
  {
   "cell_type": "code",
   "execution_count": null,
   "id": "6a42c4a2",
   "metadata": {},
   "outputs": [
    {
     "name": "stdout",
     "output_type": "stream",
     "text": [
      "Mint NFT\n"
     ]
    }
   ],
   "source": [
    "# NFT Mint Status Check\n",
    "#  Description: Check if an NFT is sold out or available for mint.\n",
    "#  Input: Total supply (e.g., 10,000), Minted count (e.g., 10,000)\n",
    "#  Output: Sold Out\n",
    "\n",
    "total_supply = 10000\n",
    "mintend_count = 10000\n",
    "\n",
    "if mintend_count < total_supply:\n",
    "    print(\"Mint NFT\")\n",
    "else:\n",
    "    print(\"Sold Out\")"
   ]
  }
 ],
 "metadata": {
  "kernelspec": {
   "display_name": "pythonz",
   "language": "python",
   "name": "python3"
  },
  "language_info": {
   "codemirror_mode": {
    "name": "ipython",
    "version": 3
   },
   "file_extension": ".py",
   "mimetype": "text/x-python",
   "name": "python",
   "nbconvert_exporter": "python",
   "pygments_lexer": "ipython3",
   "version": "3.13.3"
  }
 },
 "nbformat": 4,
 "nbformat_minor": 5
}
