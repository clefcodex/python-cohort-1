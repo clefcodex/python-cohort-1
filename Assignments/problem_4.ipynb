{
 "cells": [
  {
   "cell_type": "code",
   "execution_count": 20,
   "id": "58bfa375",
   "metadata": {},
   "outputs": [],
   "source": [
    "crypto_exchange = {\n",
    "    \"base_currency\": \"USDT\",\n",
    "    \"exchange_rates\": {\n",
    "        \"ETH\": {\n",
    "            \"current_rate\": 0.0005,\n",
    "            \"historical_rates\": [\n",
    "                {\"date\": \"2024-01-10\", \"rate\": 0.00048},\n",
    "                {\"date\": \"2024-01-09\", \"rate\": 0.00049}\n",
    "            ]\n",
    "        },\n",
    "        \"BTC\": {\n",
    "            \"current_rate\": 0.000025,\n",
    "            \"historical_rates\": [\n",
    "                {\"date\": \"2024-01-10\", \"rate\": 0.000024},\n",
    "                {\"date\": \"2024-01-09\", \"rate\": 0.000026}\n",
    "            ]\n",
    "        }\n",
    "    }\n",
    "}\n"
   ]
  },
  {
   "cell_type": "code",
   "execution_count": 22,
   "id": "76202d66",
   "metadata": {},
   "outputs": [
    {
     "data": {
      "text/plain": [
       "0.0005"
      ]
     },
     "execution_count": 22,
     "metadata": {},
     "output_type": "execute_result"
    }
   ],
   "source": [
    "# Q1: Read Data  \n",
    "# Task: Display the current exchange rate for ETH.\n",
    "result = crypto_exchange[\"exchange_rates\"][\"ETH\"][\"current_rate\"]\n",
    "result"
   ]
  },
  {
   "cell_type": "code",
   "execution_count": 23,
   "id": "c1d39069",
   "metadata": {},
   "outputs": [
    {
     "data": {
      "text/plain": [
       "{'base_currency': 'USDT',\n",
       " 'exchange_rates': {'ETH': {'current_rate': 0.0005,\n",
       "   'historical_rates': [{'date': '2024-01-10', 'rate': 0.00048},\n",
       "    {'date': '2024-01-09', 'rate': 0.00049}]},\n",
       "  'BTC': {'current_rate': 2.5e-05,\n",
       "   'historical_rates': [{'date': '2024-01-10', 'rate': 2.4e-05},\n",
       "    {'date': '2024-01-09', 'rate': 2.6e-05}]},\n",
       "  'ADA': {'current_rate': 0.0015,\n",
       "   'historical_rates': [{'date': '2024-01-10', 'rate': 0.0016},\n",
       "    {'date': '2024-01-09', 'rate': 0.0017}]}}}"
      ]
     },
     "execution_count": 23,
     "metadata": {},
     "output_type": "execute_result"
    }
   ],
   "source": [
    "# Q2: Write Data  \n",
    "# Task: Add a new currency \"ADA\" with a current rate of 0.0015 and \n",
    "# two historical rates: 0.0016 on \"2024-01-10\" and 0.0017 on \"2024-01-09\".\n",
    "ada = {\n",
    "        \"current_rate\": 0.0015,\n",
    "        \"historical_rates\": [\n",
    "            {\"date\": \"2024-01-10\", \"rate\": 0.0016},\n",
    "            {\"date\": \"2024-01-09\", \"rate\": 0.0017}\n",
    "        ]\n",
    "    }\n",
    "crypto_exchange[\"exchange_rates\"][\"ADA\"] = ada\n",
    "crypto_exchange"
   ]
  },
  {
   "cell_type": "code",
   "execution_count": 24,
   "id": "b2c5519b",
   "metadata": {},
   "outputs": [
    {
     "data": {
      "text/plain": [
       "2.7e-05"
      ]
     },
     "execution_count": 24,
     "metadata": {},
     "output_type": "execute_result"
    }
   ],
   "source": [
    "# Q3: Update Data  \n",
    "# Task: Update the current exchange rate of BTC to 0.000027.\n",
    "crypto_exchange[\"exchange_rates\"][\"BTC\"][\"current_rate\"] = 0.000027\n",
    "result = crypto_exchange[\"exchange_rates\"][\"BTC\"][\"current_rate\"]\n",
    "result"
   ]
  },
  {
   "cell_type": "code",
   "execution_count": 25,
   "id": "efb20285",
   "metadata": {},
   "outputs": [
    {
     "data": {
      "text/plain": [
       "{'current_rate': 0.0005}"
      ]
     },
     "execution_count": 25,
     "metadata": {},
     "output_type": "execute_result"
    }
   ],
   "source": [
    "# Q4: Delete Data  \n",
    "# Task: Remove the historical rates for ETH.\n",
    "crypto_exchange[\"exchange_rates\"][\"ETH\"].pop(\"historical_rates\")\n",
    "result = crypto_exchange[\"exchange_rates\"][\"ETH\"]\n",
    "result"
   ]
  },
  {
   "cell_type": "code",
   "execution_count": 26,
   "id": "b3fdd850",
   "metadata": {},
   "outputs": [
    {
     "data": {
      "text/plain": [
       "2.4e-05"
      ]
     },
     "execution_count": 26,
     "metadata": {},
     "output_type": "execute_result"
    }
   ],
   "source": [
    "# Q5: Read Nested Data  \n",
    "# Task: Display the exchange rate of BTC on \"2024-01-10\".\n",
    "result = crypto_exchange[\"exchange_rates\"][\"BTC\"][\"historical_rates\"][0][\"rate\"]\n",
    "result"
   ]
  },
  {
   "cell_type": "code",
   "execution_count": 27,
   "id": "b3610db9",
   "metadata": {},
   "outputs": [
    {
     "data": {
      "text/plain": [
       "{'current_rate': 0.0005,\n",
       " 'historical_rates': [{'date': '2024-01-10', 'rate': 0.00047}]}"
      ]
     },
     "execution_count": 27,
     "metadata": {},
     "output_type": "execute_result"
    }
   ],
   "source": [
    "# Q6: Update Nested Data  \n",
    "# Task: Change the rate of ETH on \"2024-01-10\" to 0.00047.\n",
    "crypto_exchange[\"exchange_rates\"][\"ETH\"][\"historical_rates\"] = [{'date': '2024-01-10', 'rate': 0.00047}]\n",
    "result = crypto_exchange[\"exchange_rates\"][\"ETH\"]\n",
    "result"
   ]
  },
  {
   "cell_type": "code",
   "execution_count": 30,
   "id": "78ca86b3",
   "metadata": {},
   "outputs": [
    {
     "data": {
      "text/plain": [
       "[{'date': '2024-01-10', 'rate': 2.4e-05},\n",
       " {'date': '2024-01-09', 'rate': 2.6e-05},\n",
       " {'date': '2024-01-11', 'rate': 2.3e-05}]"
      ]
     },
     "execution_count": 30,
     "metadata": {},
     "output_type": "execute_result"
    }
   ],
   "source": [
    "# Q7: Add Nested Data  \n",
    "# Task: Add a new historical rate for BTC on \"2024-01-11\" with a rate of 0.000023.\n",
    "crypto_exchange[\"exchange_rates\"][\"BTC\"][\"historical_rates\"].append({'date': '2024-01-11', 'rate': 0.000023})\n",
    "result = crypto_exchange[\"exchange_rates\"][\"BTC\"][\"historical_rates\"]\n",
    "result"
   ]
  },
  {
   "cell_type": "code",
   "execution_count": 32,
   "id": "2f679018",
   "metadata": {},
   "outputs": [
    {
     "data": {
      "text/plain": [
       "[{'date': '2024-01-10', 'rate': 2.4e-05},\n",
       " {'date': '2024-01-11', 'rate': 2.3e-05}]"
      ]
     },
     "execution_count": 32,
     "metadata": {},
     "output_type": "execute_result"
    }
   ],
   "source": [
    "# Q8: Delete an Item from a List Inside a Dictionary  \n",
    "# Task: Remove the historical rate of BTC on \"2024-01-09\".\n",
    "crypto_exchange[\"exchange_rates\"][\"BTC\"][\"historical_rates\"].pop(1)\n",
    "result = crypto_exchange[\"exchange_rates\"][\"BTC\"][\"historical_rates\"]\n",
    "result"
   ]
  }
 ],
 "metadata": {
  "kernelspec": {
   "display_name": "pythonz",
   "language": "python",
   "name": "python3"
  },
  "language_info": {
   "codemirror_mode": {
    "name": "ipython",
    "version": 3
   },
   "file_extension": ".py",
   "mimetype": "text/x-python",
   "name": "python",
   "nbconvert_exporter": "python",
   "pygments_lexer": "ipython3",
   "version": "3.13.3"
  }
 },
 "nbformat": 4,
 "nbformat_minor": 5
}
