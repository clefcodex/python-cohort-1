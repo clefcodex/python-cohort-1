{
 "cells": [
  {
   "cell_type": "code",
   "execution_count": 6,
   "id": "f6d4d9ec",
   "metadata": {},
   "outputs": [
    {
     "name": "stdout",
     "output_type": "stream",
     "text": [
      "average gas fee is 40.0\n"
     ]
    }
   ],
   "source": [
    "# Daily Gas Fee Average\n",
    "#  Description: Calculate the average gas fee from a list of daily Ethereum gas fees.\n",
    "#  Input: List of gas fees (e.g., [30, 40, 35, 50, 45])\n",
    "#  Output: Average gas fee (e.g., 40.0)\n",
    "\n",
    "gas_fees = [30, 40, 35, 50, 45]\n",
    "\n",
    "total = 0\n",
    "for gas in gas_fees:\n",
    "    total += gas\n",
    "\n",
    "\n",
    "average_gas = total/len(gas_fees)\n",
    "print(f'average gas fee is {average_gas}')"
   ]
  },
  {
   "cell_type": "code",
   "execution_count": 8,
   "id": "9e78735e",
   "metadata": {},
   "outputs": [
    {
     "name": "stdout",
     "output_type": "stream",
     "text": [
      "The highest transaction count is 1600\n"
     ]
    }
   ],
   "source": [
    "# Highest Daily Transaction Count\n",
    "#  Description: Find the day with the highest number of transactions on a blockchain.\n",
    "#  Input: List of daily transaction counts (e.g., [1200, 1400, 1350, 1600, 1100])\n",
    "#  Output: Day with the highest transaction count (e.g., Day 4)\n",
    "\n",
    "counts = [1200, 1400, 1350, 1600, 1100]\n",
    "highest_count = max(counts)\n",
    "\n",
    "print(f'The highest transaction count is {highest_count}')"
   ]
  },
  {
   "cell_type": "code",
   "execution_count": 10,
   "id": "f7d294f9",
   "metadata": {},
   "outputs": [
    {
     "name": "stdout",
     "output_type": "stream",
     "text": [
      "Token highest price is 2.8, while its lowest price is 2.0\n"
     ]
    }
   ],
   "source": [
    "# Find Token Min/Max Price\n",
    "#  Description: Determine the lowest and highest price of a token over a week.\n",
    "#  Input: List of prices (e.g., [2.1, 2.5, 2.0, 2.8, 2.6])\n",
    "#  Output: Min: 2.0, Max: 2.8\n",
    "\n",
    "price = [2.1, 2.5, 2.0, 2.8, 2.6]\n",
    "lowest_price = min(price)\n",
    "highest_price = max(price)\n",
    "\n",
    "print(f'Token highest price is {highest_price}, while its lowest price is {lowest_price}')"
   ]
  },
  {
   "cell_type": "code",
   "execution_count": 12,
   "id": "d135cbc1",
   "metadata": {},
   "outputs": [
    {
     "name": "stdout",
     "output_type": "stream",
     "text": [
      "the number of days the trader had a positive return is 3\n"
     ]
    }
   ],
   "source": [
    "# Count Profitable Days on DEX\n",
    "#  Description: Count the number of days a trader had a positive return on a DEX.\n",
    "#  Input: List of daily PnL (e.g., [0.03, -0.02, 0.01, 0.04, -0.01])\n",
    "#  Output: Number of profitable days (e.g., 3 days)\n",
    "\n",
    "pnl = [0.03, -0.02, 0.01, 0.04, -0.01]\n",
    "\n",
    "positive_return = 0\n",
    "for num in pnl:\n",
    "    if num > 0:\n",
    "        positive_return += 1\n",
    "\n",
    "print(f'the number of days the trader had a positive return is {positive_return}')\n"
   ]
  },
  {
   "cell_type": "code",
   "execution_count": 13,
   "id": "1814fe4e",
   "metadata": {},
   "outputs": [
    {
     "name": "stdout",
     "output_type": "stream",
     "text": [
      "average tokens held is 187.5\n"
     ]
    }
   ],
   "source": [
    "# Average Number of Tokens Held\n",
    "#  Description: Calculate the average number of tokens held across wallets.\n",
    "#  Input: List of token holdings per wallet (e.g., [100, 200, 150, 300])\n",
    "#  Output: Average tokens held (e.g., 187.5)\n",
    "\n",
    "tokens = [100, 200, 150, 300]\n",
    "\n",
    "total = 0\n",
    "\n",
    "for token in tokens:\n",
    "    total += token\n",
    "\n",
    "\n",
    "average= total/len(tokens)\n",
    "print(f'average tokens held is {average}')"
   ]
  }
 ],
 "metadata": {
  "kernelspec": {
   "display_name": "pythonz",
   "language": "python",
   "name": "python3"
  },
  "language_info": {
   "codemirror_mode": {
    "name": "ipython",
    "version": 3
   },
   "file_extension": ".py",
   "mimetype": "text/x-python",
   "name": "python",
   "nbconvert_exporter": "python",
   "pygments_lexer": "ipython3",
   "version": "3.13.3"
  }
 },
 "nbformat": 4,
 "nbformat_minor": 5
}
