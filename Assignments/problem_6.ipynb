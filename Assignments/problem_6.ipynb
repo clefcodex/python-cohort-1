{
 "cells": [
  {
   "cell_type": "code",
   "execution_count": 39,
   "id": "0c5a5a68",
   "metadata": {},
   "outputs": [],
   "source": [
    "crypto_hedge_fund = {\n",
    "    \"fund_name\": \"Alpha Crypto Investments\",\n",
    "    \"portfolio_value_usd\": 50000000,\n",
    "    \"investments\": [\n",
    "        {\n",
    "            \"type\": \"Tokens\",\n",
    "            \"holdings\": [\n",
    "                {\"ticker\": \"ETH\", \"quantity\": 10000, \"average_buy_price\": 2000},\n",
    "                {\"ticker\": \"SOL\", \"quantity\": 50000, \"average_buy_price\": 100}\n",
    "            ]\n",
    "        },\n",
    "        {\n",
    "            \"type\": \"Stablecoins\",\n",
    "            \"holdings\": [\n",
    "                {\"coin\": \"USDT\", \"amount\": 10000000, \"apy\": 1.5}\n",
    "            ]\n",
    "        },\n",
    "        {\n",
    "            \"type\": \"Derivatives\",\n",
    "            \"holdings\": [\n",
    "                {\"instrument\": \"Futures\", \"details\": {\"underlying\": \"BTC\", \"type\": \"Perpetual\", \"leverage\": 10}}\n",
    "            ]\n",
    "        }\n",
    "    ],\n",
    "    \"performance_metrics\": {\n",
    "        \"year_to_date_return\": 5.2,\n",
    "        \"five_year_annualized_return\": 7.1\n",
    "    }\n",
    "}\n"
   ]
  },
  {
   "cell_type": "code",
   "execution_count": 6,
   "id": "8a5f7d03",
   "metadata": {},
   "outputs": [
    {
     "data": {
      "text/plain": [
       "50000"
      ]
     },
     "execution_count": 6,
     "metadata": {},
     "output_type": "execute_result"
    }
   ],
   "source": [
    "# Q1: Read Data  \n",
    "# Task: Display the quantity of \"SOL\" tokens held in the portfolio.\n",
    "result = crypto_hedge_fund[\"investments\"][0][\"holdings\"][1][\"quantity\"]\n",
    "result"
   ]
  },
  {
   "cell_type": "code",
   "execution_count": 40,
   "id": "9916393f",
   "metadata": {},
   "outputs": [
    {
     "data": {
      "text/plain": [
       "[{'type': 'Tokens',\n",
       "  'holdings': [{'ticker': 'ETH', 'quantity': 10000, 'average_buy_price': 2000},\n",
       "   {'ticker': 'SOL', 'quantity': 50000, 'average_buy_price': 100}]},\n",
       " {'type': 'Stablecoins',\n",
       "  'holdings': [{'coin': 'USDT', 'amount': 10000000, 'apy': 1.5}]},\n",
       " {'type': 'Derivatives',\n",
       "  'holdings': [{'instrument': 'Futures',\n",
       "    'details': {'underlying': 'BTC', 'type': 'Perpetual', 'leverage': 10}}]},\n",
       " {'type': 'NFTs',\n",
       "  'holdings': [{'ticker': 'CryptoPunk 456',\n",
       "    'quantity': 1,\n",
       "    'average_buy_price': 2000000}]}]"
      ]
     },
     "execution_count": 40,
     "metadata": {},
     "output_type": "execute_result"
    }
   ],
   "source": [
    "# Q2: Write Data  \n",
    "# Task: Add a new investment type \"NFTs\" with one holding of an NFT \"CryptoPunk 456\" valued at 2000000.\n",
    "\n",
    "nft = {'type': 'NFTs',\n",
    "  'holdings': [{'ticker': 'CryptoPunk 456', 'quantity': 1, 'average_buy_price': 2000000}]\n",
    "}\n",
    "crypto_hedge_fund[\"investments\"].append(nft)\n",
    "result = crypto_hedge_fund[\"investments\"]\n",
    "result"
   ]
  },
  {
   "cell_type": "code",
   "execution_count": 41,
   "id": "2f8684ff",
   "metadata": {},
   "outputs": [
    {
     "data": {
      "text/plain": [
       "51000000"
      ]
     },
     "execution_count": 41,
     "metadata": {},
     "output_type": "execute_result"
    }
   ],
   "source": [
    "# Q3: Update Data  \n",
    "# Task: Update the portfolio value to 51000000.\n",
    "\n",
    "crypto_hedge_fund[\"portfolio_value_usd\"] = 51000000\n",
    "result = crypto_hedge_fund[\"portfolio_value_usd\"]\n",
    "result"
   ]
  },
  {
   "cell_type": "code",
   "execution_count": 42,
   "id": "5fd277e4",
   "metadata": {},
   "outputs": [
    {
     "data": {
      "text/plain": [
       "[{'type': 'Tokens',\n",
       "  'holdings': [{'ticker': 'ETH', 'quantity': 10000, 'average_buy_price': 2000},\n",
       "   {'ticker': 'SOL', 'quantity': 50000, 'average_buy_price': 100}]},\n",
       " {'type': 'Stablecoins',\n",
       "  'holdings': [{'coin': 'USDT', 'amount': 10000000, 'apy': 1.5}]},\n",
       " {'type': 'NFTs',\n",
       "  'holdings': [{'ticker': 'CryptoPunk 456',\n",
       "    'quantity': 1,\n",
       "    'average_buy_price': 2000000}]}]"
      ]
     },
     "execution_count": 42,
     "metadata": {},
     "output_type": "execute_result"
    }
   ],
   "source": [
    "# Q4: Delete Data  \n",
    "# Task: Remove the \"Derivatives\" investment from the portfolio.\n",
    "\n",
    "crypto_hedge_fund[\"investments\"].pop(2)\n",
    "result = crypto_hedge_fund[\"investments\"]\n",
    "result"
   ]
  },
  {
   "cell_type": "code",
   "execution_count": 43,
   "id": "740a889a",
   "metadata": {},
   "outputs": [
    {
     "data": {
      "text/plain": [
       "1.5"
      ]
     },
     "execution_count": 43,
     "metadata": {},
     "output_type": "execute_result"
    }
   ],
   "source": [
    "# Q5: Read Nested Data  \n",
    "# Task: Display the APY of the \"USDT\" stablecoin.\n",
    "\n",
    "result = crypto_hedge_fund[\"investments\"][1][\"holdings\"][0][\"apy\"]\n",
    "result"
   ]
  },
  {
   "cell_type": "code",
   "execution_count": 44,
   "id": "4ef8552c",
   "metadata": {},
   "outputs": [
    {
     "data": {
      "text/plain": [
       "2100"
      ]
     },
     "execution_count": 44,
     "metadata": {},
     "output_type": "execute_result"
    }
   ],
   "source": [
    "# Q6: Update Nested Data  \n",
    "# Task: Change the average buy price of \"ETH\" tokens to 2100.\n",
    "\n",
    "crypto_hedge_fund[\"investments\"][0][\"holdings\"][0][\"average_buy_price\"] = 2100\n",
    "result = crypto_hedge_fund[\"investments\"][0][\"holdings\"][0][\"average_buy_price\"]\n",
    "result"
   ]
  },
  {
   "cell_type": "code",
   "execution_count": 45,
   "id": "5ef150ac",
   "metadata": {},
   "outputs": [
    {
     "data": {
      "text/plain": [
       "[{'ticker': 'ETH', 'quantity': 10000, 'average_buy_price': 2100},\n",
       " {'ticker': 'SOL', 'quantity': 50000, 'average_buy_price': 100},\n",
       " {'ticker': 'ADA', 'quantity': 100000, 'average_buy_price': 1.5}]"
      ]
     },
     "execution_count": 45,
     "metadata": {},
     "output_type": "execute_result"
    }
   ],
   "source": [
    "# Q7: Add Nested Data  \n",
    "# Task: Add a new token holding for \"ADA\" with a quantity of 100000 and an average buy price of 1.5.\n",
    "\n",
    "ada = {'ticker': 'ADA', 'quantity': 100000, 'average_buy_price': 1.5}\n",
    "crypto_hedge_fund[\"investments\"][0][\"holdings\"].append(ada)\n",
    "result = crypto_hedge_fund[\"investments\"][0][\"holdings\"]\n",
    "result"
   ]
  },
  {
   "cell_type": "code",
   "execution_count": 47,
   "id": "882d0dbf",
   "metadata": {},
   "outputs": [
    {
     "data": {
      "text/plain": [
       "[{'ticker': 'SOL', 'quantity': 50000, 'average_buy_price': 100},\n",
       " {'ticker': 'ADA', 'quantity': 100000, 'average_buy_price': 1.5}]"
      ]
     },
     "execution_count": 47,
     "metadata": {},
     "output_type": "execute_result"
    }
   ],
   "source": [
    "# Q8: Delete an Item from a List Inside a Dictionary  \n",
    "# Task: Remove the first holding (ETH) under the \"Tokens\" type.\n",
    "\n",
    "crypto_hedge_fund[\"investments\"][0][\"holdings\"].pop(0)\n",
    "result = crypto_hedge_fund[\"investments\"][0][\"holdings\"]\n",
    "result"
   ]
  }
 ],
 "metadata": {
  "kernelspec": {
   "display_name": "pythonz",
   "language": "python",
   "name": "python3"
  },
  "language_info": {
   "codemirror_mode": {
    "name": "ipython",
    "version": 3
   },
   "file_extension": ".py",
   "mimetype": "text/x-python",
   "name": "python",
   "nbconvert_exporter": "python",
   "pygments_lexer": "ipython3",
   "version": "3.13.3"
  }
 },
 "nbformat": 4,
 "nbformat_minor": 5
}
