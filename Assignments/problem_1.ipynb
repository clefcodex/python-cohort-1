{
 "cells": [
  {
   "cell_type": "code",
   "execution_count": 29,
   "id": "adcd0636",
   "metadata": {},
   "outputs": [],
   "source": [
    "crypto_tokens = [\n",
    "    {\n",
    "        \"name\": \"Token A\",\n",
    "        \"symbol\": \"TKA\",\n",
    "        \"blockchain\": \"Ethereum\",\n",
    "        \"current_price_usd\": 100.0,\n",
    "        \"transaction_history\": [\n",
    "            {\n",
    "                \"date\": \"2024-01-10\",\n",
    "                \"prices\": {\n",
    "                    \"open\": 98.0,\n",
    "                    \"close\": 100.0,\n",
    "                    \"high\": 101.0,\n",
    "                    \"low\": 97.0\n",
    "                },\n",
    "                \"volume\": 12000\n",
    "            },\n",
    "            {\n",
    "                \"date\": \"2024-01-09\",\n",
    "                \"prices\": {\n",
    "                    \"open\": 97.0,\n",
    "                    \"close\": 98.0,\n",
    "                    \"high\": 99.0,\n",
    "                    \"low\": 96.0\n",
    "                },\n",
    "                \"volume\": 15000\n",
    "            }\n",
    "        ],\n",
    "        \"supported_chains\": [\"Ethereum\", \"Polygon\"]\n",
    "    },\n",
    "    {\n",
    "        \"name\": \"Token B\",\n",
    "        \"symbol\": \"TKB\",\n",
    "        \"blockchain\": \"Binance Smart Chain\",\n",
    "        \"current_price_usd\": 200.0,\n",
    "        \"transaction_history\": [\n",
    "            {\n",
    "                \"date\": \"2024-01-10\",\n",
    "                \"prices\": {\n",
    "                    \"open\": 198.0,\n",
    "                    \"close\": 200.0,\n",
    "                    \"high\": 202.0,\n",
    "                    \"low\": 196.0\n",
    "                },\n",
    "                \"volume\": 18000\n",
    "            },\n",
    "            {\n",
    "                \"date\": \"2024-01-09\",\n",
    "                \"prices\": {\n",
    "                    \"open\": 196.0,\n",
    "                    \"close\": 198.0,\n",
    "                    \"high\": 199.0,\n",
    "                    \"low\": 195.0\n",
    "                },\n",
    "                \"volume\": 17000\n",
    "            }\n",
    "        ],\n",
    "        \"supported_chains\": [\"Binance Smart Chain\", \"Avalanche\"]\n",
    "    },\n",
    "    {\n",
    "        \"name\": \"Token C\",\n",
    "        \"symbol\": \"TKC\",\n",
    "        \"blockchain\": \"Solana\",\n",
    "        \"current_price_usd\": 300.0,\n",
    "        \"transaction_history\": [\n",
    "            {\n",
    "                \"date\": \"2024-01-10\",\n",
    "                \"prices\": {\n",
    "                    \"open\": 295.0,\n",
    "                    \"close\": 300.0,\n",
    "                    \"high\": 302.0,\n",
    "                    \"low\": 294.0\n",
    "                },\n",
    "                \"volume\": 22000\n",
    "            },\n",
    "            {\n",
    "                \"date\": \"2024-01-09\",\n",
    "                \"prices\": {\n",
    "                    \"open\": 294.0,\n",
    "                    \"close\": 295.0,\n",
    "                    \"high\": 296.0,\n",
    "                    \"low\": 293.0\n",
    "                },\n",
    "                \"volume\": 21000\n",
    "            }\n",
    "        ],\n",
    "        \"supported_chains\": [\"Solana\", \"Fantom\"]\n",
    "    }\n",
    "]\n"
   ]
  },
  {
   "cell_type": "code",
   "execution_count": 10,
   "id": "9e9a38db",
   "metadata": {},
   "outputs": [
    {
     "data": {
      "text/plain": [
       "200.0"
      ]
     },
     "execution_count": 10,
     "metadata": {},
     "output_type": "execute_result"
    }
   ],
   "source": [
    "# Q1: Read Data  \n",
    "# Task: Display the current price of \"Token B\".\n",
    "\n",
    "\n",
    "crypto_tokens[1][\"current_price_usd\"]"
   ]
  },
  {
   "cell_type": "code",
   "execution_count": 27,
   "id": "09172e43",
   "metadata": {},
   "outputs": [
    {
     "name": "stdout",
     "output_type": "stream",
     "text": [
      "4\n"
     ]
    }
   ],
   "source": [
    "# Q2: Write Data  \n",
    "# Task: Add a new token \"Token D\" with some initial data to the `crypto_tokens` list.\n",
    "\n",
    "crypto_tokens.append({\n",
    "    \"name\": \"Token D\",\n",
    "    \"symbol\": \"TKD\",\n",
    "    \"blockchain\": \"Core Chain\",\n",
    "    \"current_price_usd\": 200.0,\n",
    "    \"transaction_history\": [\n",
    "        {\n",
    "            \"date\": \"2024-01-10\",\n",
    "            \"prices\": {\n",
    "                \"open\": 198.0,\n",
    "                \"close\": 200.0,\n",
    "                \"high\": 202.0,\n",
    "                \"low\": 196.0\n",
    "            },\n",
    "            \"volume\": 18000\n",
    "        },\n",
    "        {\n",
    "            \"date\": \"2024-01-09\",\n",
    "            \"prices\": {\n",
    "                \"open\": 196.0,\n",
    "                \"close\": 198.0,\n",
    "                \"high\": 199.0,\n",
    "                \"low\": 195.0\n",
    "            },\n",
    "            \"volume\": 17000\n",
    "        }\n",
    "    ],\n",
    "    \"supported_chains\": [\"Core\", \"Binance Smart Chain\", \"Avalanche\"]\n",
    "})\n",
    "\n",
    "\n",
    "print(len(crypto_tokens))"
   ]
  },
  {
   "cell_type": "code",
   "execution_count": 12,
   "id": "f23d456c",
   "metadata": {},
   "outputs": [
    {
     "name": "stdout",
     "output_type": "stream",
     "text": [
      "The price of Token C is 310.0\n"
     ]
    }
   ],
   "source": [
    "# Q3: Update Data  \n",
    "# Task: Update the current price of \"Token C\" to 310.0.\n",
    "crypto_tokens[2][\"current_price_usd\"] = 310.0\n",
    "print(f'The price of {crypto_tokens[2][\"name\"]} is {crypto_tokens[2][\"current_price_usd\"]}')"
   ]
  },
  {
   "cell_type": "code",
   "execution_count": 35,
   "id": "157f1b7e",
   "metadata": {},
   "outputs": [
    {
     "name": "stdout",
     "output_type": "stream",
     "text": [
      "[{'date': '2024-01-10', 'prices': {'open': 98.0, 'close': 100.0, 'high': 101.0, 'low': 97.0}, 'volume': 12000}]\n"
     ]
    }
   ],
   "source": [
    "# Q4: Delete Data  \n",
    "# Task: Remove the transaction history for \"Token A\" on \"2024-01-09\".\n",
    "history = crypto_tokens[0][\"transaction_history\"]\n",
    "# crypto_tokens[0][\"transaction_history\"].pop(1)\n",
    "print(history)"
   ]
  },
  {
   "cell_type": "code",
   "execution_count": 23,
   "id": "0880a849",
   "metadata": {},
   "outputs": [
    {
     "name": "stdout",
     "output_type": "stream",
     "text": [
      "The closing price of Token B on \"2024-01-10\" is 200.0\n"
     ]
    }
   ],
   "source": [
    "# Q5: Read Nested Data  \n",
    "# Task: Display the closing price of \"Token B\" on \"2024-01-10\".\n",
    "token_name = crypto_tokens[1][\"name\"]\n",
    "closing_price = crypto_tokens[1][\"transaction_history\"][0][\"prices\"][\"close\"]\n",
    "\n",
    "print(f'The closing price of {token_name} on \"2024-01-10\" is {closing_price}')"
   ]
  },
  {
   "cell_type": "code",
   "execution_count": 39,
   "id": "cf0fa1e9",
   "metadata": {},
   "outputs": [
    {
     "name": "stdout",
     "output_type": "stream",
     "text": [
      "The opening price of Token A on \"2024-01-10\" is 99.0\n"
     ]
    }
   ],
   "source": [
    "# Q6: Update Nested Data  \n",
    "# Task: Change the opening price of \"Token A\" on \"2024-01-10\" to 99.0.\n",
    "token_name = crypto_tokens[0][\"name\"]\n",
    "crypto_tokens[0][\"transaction_history\"][0][\"prices\"][\"open\"] = 99.0\n",
    "opening_price = crypto_tokens[0][\"transaction_history\"][0][\"prices\"][\"open\"]\n",
    "print(f'The opening price of {token_name} on \"2024-01-10\" is {opening_price}')"
   ]
  },
  {
   "cell_type": "code",
   "execution_count": 43,
   "id": "c2d5bef0",
   "metadata": {},
   "outputs": [
    {
     "name": "stdout",
     "output_type": "stream",
     "text": [
      "{'date': '2024-01-11', 'prices': {'open': 290.0, 'close': 310.0, 'high': 303.0, 'low': 294.0}, 'volume': 22000}\n",
      "{'date': '2024-01-10', 'prices': {'open': 295.0, 'close': 300.0, 'high': 302.0, 'low': 294.0}, 'volume': 22000}\n",
      "{'date': '2024-01-09', 'prices': {'open': 294.0, 'close': 295.0, 'high': 296.0, 'low': 293.0}, 'volume': 21000}\n"
     ]
    }
   ],
   "source": [
    "# Q7: Add Nested Data  \n",
    "# Task: Add a new transaction history entry for \"Token C\" on \"2024-01-11\".\n",
    "crypto_tokens[2][\"transaction_history\"].insert(0, {'date': '2024-01-11', 'prices': {'open': 290.0, 'close': 310.0, 'high': 303.0, 'low': 294.0}, 'volume': 22000})\n",
    "# crypto_tokens[2][\"transaction_history\"].append()\n",
    "history_0 = crypto_tokens[2][\"transaction_history\"][0]\n",
    "history_1 = crypto_tokens[2][\"transaction_history\"][1]\n",
    "history_2 = crypto_tokens[2][\"transaction_history\"][2]\n",
    "\n",
    "print(history_0)\n",
    "print(history_1)\n",
    "print(history_2)"
   ]
  },
  {
   "cell_type": "code",
   "execution_count": 45,
   "id": "7fa4e18f",
   "metadata": {},
   "outputs": [
    {
     "name": "stdout",
     "output_type": "stream",
     "text": [
      "Token B\n",
      "['Binance Smart Chain']\n"
     ]
    }
   ],
   "source": [
    "# Q8: Delete an Item from a List Inside a Dictionary  \n",
    "# Task: Remove \"Avalanche\" from the supported chains of \"Token B\".\n",
    "crypto_tokens[1][\"supported_chains\"].pop(1)\n",
    "token_name = crypto_tokens[1][\"name\"]\n",
    "supported_chains = crypto_tokens[1][\"supported_chains\"]\n",
    "print(token_name)\n",
    "print(supported_chains)"
   ]
  }
 ],
 "metadata": {
  "kernelspec": {
   "display_name": "pythonz",
   "language": "python",
   "name": "python3"
  },
  "language_info": {
   "codemirror_mode": {
    "name": "ipython",
    "version": 3
   },
   "file_extension": ".py",
   "mimetype": "text/x-python",
   "name": "python",
   "nbconvert_exporter": "python",
   "pygments_lexer": "ipython3",
   "version": "3.13.3"
  }
 },
 "nbformat": 4,
 "nbformat_minor": 5
}
