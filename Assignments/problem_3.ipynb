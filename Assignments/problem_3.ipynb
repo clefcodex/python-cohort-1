{
 "cells": [
  {
   "cell_type": "code",
   "execution_count": null,
   "id": "22a3c109",
   "metadata": {},
   "outputs": [],
   "source": [
    "blockchain_analysis = {\n",
    "    \"ecosystems\": {\n",
    "        \"DeFi\": {\n",
    "            \"protocols\": [\n",
    "                {\"name\": \"Protocol A\", \"ticker\": \"PDA\", \"price_change\": 5.2},\n",
    "                {\"name\": \"Protocol B\", \"ticker\": \"PDB\", \"price_change\": -3.1}\n",
    "            ]\n",
    "        },\n",
    "        \"NFTs\": {\n",
    "            \"protocols\": [\n",
    "                {\"name\": \"NFT Market A\", \"ticker\": \"NMA\", \"price_change\": 4.0},\n",
    "                {\"name\": \"NFT Market B\", \"ticker\": \"NMB\", \"price_change\": 2.5}\n",
    "            ]\n",
    "        }\n",
    "    },\n",
    "    \"market_performance\": {\n",
    "        \"Crypto Index\": {\"change\": 1.5},\n",
    "        \"DeFi Index\": {\"change\": 2.3},\n",
    "        \"NFT Index\": {\"change\": -1.2}\n",
    "    },\n",
    "    \"notable_events\": [\n",
    "        (\"2024-01-10\", \"Network Upgrade\", \"Ethereum completes sharding upgrade\"),\n",
    "        (\"2024-01-15\", \"Token Launch\", \"Protocol A launches governance token\")\n",
    "    ]\n",
    "}\n"
   ]
  },
  {
   "cell_type": "code",
   "execution_count": 7,
   "id": "5531d1b3",
   "metadata": {},
   "outputs": [
    {
     "name": "stdout",
     "output_type": "stream",
     "text": [
      "2.5\n"
     ]
    }
   ],
   "source": [
    "# Q1: Read Data  \n",
    "# Task: Display the price change of \"NFT Market B\".\n",
    "\n",
    "nft_market_b = blockchain_analysis[\"ecosystems\"][\"NFTs\"][\"protocols\"][1][\"price_change\"]\n",
    "print(nft_market_b)"
   ]
  },
  {
   "cell_type": "code",
   "execution_count": 10,
   "id": "bf1a353f",
   "metadata": {},
   "outputs": [
    {
     "name": "stdout",
     "output_type": "stream",
     "text": [
      "{'DeFi': {'protocols': [{'name': 'Protocol A', 'ticker': 'PDA', 'price_change': 5.2}, {'name': 'Protocol B', 'ticker': 'PDB', 'price_change': -3.1}]}, 'NFTs': {'protocols': [{'name': 'NFT Market A', 'ticker': 'NMA', 'price_change': 4.0}, {'name': 'NFT Market B', 'ticker': 'NMB', 'price_change': 2.5}]}, 'Layer 2': {'protocols': [{'name': 'Layer 2 Protocol A', 'ticker': 'L2A', 'price_change': -2.0}]}}\n"
     ]
    }
   ],
   "source": [
    "# Q2: Write Data  \n",
    "# Task: Add a new ecosystem \"Layer 2\" with one protocol \"Layer 2 Protocol A\" having a ticker \"L2A\" and a price change of -2.0.\n",
    "layer_2 = {\n",
    "    \"protocols\": [\n",
    "        {\"name\": \"Layer 2 Protocol A\", \"ticker\": \"L2A\", \"price_change\": -2.0},\n",
    "    ]\n",
    "}\n",
    "blockchain_analysis[\"ecosystems\"][\"Layer 2\"] = layer_2\n",
    "print(blockchain_analysis[\"ecosystems\"])"
   ]
  },
  {
   "cell_type": "code",
   "execution_count": 16,
   "id": "5b1a5524",
   "metadata": {},
   "outputs": [
    {
     "name": "stdout",
     "output_type": "stream",
     "text": [
      "6.0\n"
     ]
    }
   ],
   "source": [
    "# Q3: Update Data  \n",
    "# Task: Update the price change of \"Protocol A\" to 6.0.\n",
    "blockchain_analysis[\"ecosystems\"][\"DeFi\"][\"protocols\"][0][\"price_change\"] = 6.0\n",
    "result = blockchain_analysis[\"ecosystems\"][\"DeFi\"][\"protocols\"][0][\"price_change\"]\n",
    "print(result)"
   ]
  },
  {
   "cell_type": "code",
   "execution_count": null,
   "id": "f84b4c08",
   "metadata": {},
   "outputs": [
    {
     "name": "stdout",
     "output_type": "stream",
     "text": [
      "{'Crypto Index': {'change': 1.5}, 'DeFi Index': {'change': 2.3}}\n"
     ]
    }
   ],
   "source": [
    "# Q4: Delete Data  \n",
    "# Task: Remove the \"NFT Index\" from market_performance.\n",
    "blockchain_analysis[\"market_performance\"].pop(\"NFT Index\")\n",
    "result = blockchain_analysis[\"market_performance\"]\n",
    "print(result)"
   ]
  },
  {
   "cell_type": "code",
   "execution_count": 25,
   "id": "8f29787b",
   "metadata": {},
   "outputs": [
    {
     "name": "stdout",
     "output_type": "stream",
     "text": [
      "{'change': 2.3}\n"
     ]
    }
   ],
   "source": [
    "# Q5: Read Nested Data  \n",
    "# Task: Display the change in \"DeFi Index\" performance.\n",
    "result = blockchain_analysis[\"market_performance\"][\"DeFi Index\"]\n",
    "print(result)"
   ]
  },
  {
   "cell_type": "code",
   "execution_count": 34,
   "id": "3d9f6b88",
   "metadata": {},
   "outputs": [
    {
     "name": "stdout",
     "output_type": "stream",
     "text": [
      "NFT Market A\n"
     ]
    }
   ],
   "source": [
    "# Q6: Update Nested Data  \n",
    "# Task: Change the name of \"NFT Market A\" to \"NFT Market Alpha\".\n",
    "blockchain_analysis[\"ecosystems\"][\"NFTs\"][\"protocols\"][0][\"name\"] = \"NFT Market A\"\n",
    "result = blockchain_analysis[\"ecosystems\"][\"NFTs\"][\"protocols\"][0][\"name\"]\n",
    "print(result)"
   ]
  },
  {
   "cell_type": "code",
   "execution_count": 43,
   "id": "3f7999ab",
   "metadata": {},
   "outputs": [
    {
     "name": "stdout",
     "output_type": "stream",
     "text": [
      "('2024-01-20', 'Partnership', 'Protocol B partners with major blockchain')\n"
     ]
    }
   ],
   "source": [
    "# Q7: Add Nested Data  \n",
    "# Task: Add a new notable event on \"2024-01-20\" stating \"Partnership\", with the description \"Protocol B partners with major blockchain\".\n",
    "blockchain_analysis[\"notable_events\"].append(('2024-01-20', 'Partnership', 'Protocol B partners with major blockchain'))\n",
    "result = blockchain_analysis[\"notable_events\"][2]\n",
    "print(result)"
   ]
  },
  {
   "cell_type": "code",
   "execution_count": null,
   "id": "c1233cd1",
   "metadata": {},
   "outputs": [
    {
     "name": "stdout",
     "output_type": "stream",
     "text": [
      "[('2024-01-15', 'Token Launch', 'Protocol A launches governance token'), ('2024-01-20', 'Partnership', 'Protocol B partners with major blockchain'), ('2024-01-20', 'Partnership', 'Protocol B partners with major blockchain')]\n"
     ]
    }
   ],
   "source": [
    "# Q8: Delete an Item from a List Inside a Dictionary  \n",
    "# Task: Remove the first notable event from the list.\n",
    "# blockchain_analysis[\"notable_events\"].pop(0)\n",
    "result = blockchain_analysis[\"notable_events\"]\n",
    "print(result)"
   ]
  }
 ],
 "metadata": {
  "kernelspec": {
   "display_name": "pythonz",
   "language": "python",
   "name": "python3"
  },
  "language_info": {
   "codemirror_mode": {
    "name": "ipython",
    "version": 3
   },
   "file_extension": ".py",
   "mimetype": "text/x-python",
   "name": "python",
   "nbconvert_exporter": "python",
   "pygments_lexer": "ipython3",
   "version": "3.13.3"
  }
 },
 "nbformat": 4,
 "nbformat_minor": 5
}
