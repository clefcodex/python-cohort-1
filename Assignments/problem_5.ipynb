{
 "cells": [
  {
   "cell_type": "code",
   "execution_count": 33,
   "id": "cd4143b3",
   "metadata": {},
   "outputs": [],
   "source": [
    "crypto_risk_profiles = {\n",
    "    \"individuals\": [\n",
    "        {\n",
    "            \"name\": \"John Doe\",\n",
    "            \"defi_score\": 750,\n",
    "            \"staked_assets\": {\n",
    "                \"eth_staking\": {\"amount\": 10, \"apy\": 3.5},\n",
    "                \"dot_staking\": {\"amount\": 1000, \"apy\": 2.8}\n",
    "            },\n",
    "            \"transaction_history\": [(\"2024-01-10\", \"Confirmed\"), (\"2024-01-01\", \"Delayed\")]\n",
    "        },\n",
    "        {\n",
    "            \"name\": \"Jane Smith\",\n",
    "            \"defi_score\": 680,\n",
    "            \"staked_assets\": {\n",
    "                \"usdc_lending\": {\"amount\": 5000, \"apy\": 5.0}\n",
    "            },\n",
    "            \"transaction_history\": [(\"2024-01-10\", \"Confirmed\")]\n",
    "        }\n",
    "    ]\n",
    "}\n"
   ]
  },
  {
   "cell_type": "code",
   "execution_count": 34,
   "id": "00247e9b",
   "metadata": {},
   "outputs": [
    {
     "data": {
      "text/plain": [
       "2.8"
      ]
     },
     "execution_count": 34,
     "metadata": {},
     "output_type": "execute_result"
    }
   ],
   "source": [
    "# Q1: Read Data  \n",
    "# Task: Display the APY for John Doe's DOT staking.\n",
    "result = crypto_risk_profiles[\"individuals\"][0][\"staked_assets\"][\"dot_staking\"][\"apy\"]\n",
    "result\n"
   ]
  },
  {
   "cell_type": "code",
   "execution_count": 35,
   "id": "65488226",
   "metadata": {},
   "outputs": [
    {
     "data": {
      "text/plain": [
       "[{'name': 'John Doe',\n",
       "  'defi_score': 750,\n",
       "  'staked_assets': {'eth_staking': {'amount': 10, 'apy': 3.5},\n",
       "   'dot_staking': {'amount': 1000, 'apy': 2.8}},\n",
       "  'transaction_history': [('2024-01-10', 'Confirmed'),\n",
       "   ('2024-01-01', 'Delayed')]},\n",
       " {'name': 'Jane Smith',\n",
       "  'defi_score': 680,\n",
       "  'staked_assets': {'usdc_lending': {'amount': 5000, 'apy': 5.0}},\n",
       "  'transaction_history': [('2024-01-10', 'Confirmed')]},\n",
       " {'name': 'Alice Johnson', 'defi_score': 720}]"
      ]
     },
     "execution_count": 35,
     "metadata": {},
     "output_type": "execute_result"
    }
   ],
   "source": [
    "# Q2: Write Data  \n",
    "# Task: Add a new individual \"Alice Johnson\" with a DeFi score of 720, no staked assets, and no transaction history.\n",
    "alice_j = {'name': 'Alice Johnson',\n",
    " 'defi_score': 720\n",
    "}\n",
    "crypto_risk_profiles[\"individuals\"].append(alice_j)\n",
    "result = crypto_risk_profiles[\"individuals\"]\n",
    "result"
   ]
  },
  {
   "cell_type": "code",
   "execution_count": 10,
   "id": "812f9407",
   "metadata": {},
   "outputs": [
    {
     "data": {
      "text/plain": [
       "{'name': 'Jane Smith',\n",
       " 'defi_score': 700,\n",
       " 'staked_assets': {'usdc_lending': {'amount': 5000, 'apy': 5.0}},\n",
       " 'transaction_history': [('2024-01-10', 'Confirmed')]}"
      ]
     },
     "execution_count": 10,
     "metadata": {},
     "output_type": "execute_result"
    }
   ],
   "source": [
    "# Q3: Update Data  \n",
    "# Task: Update Jane Smith's DeFi score to 700.\n",
    "crypto_risk_profiles[\"individuals\"][1][\"defi_score\"] = 700\n",
    "result = crypto_risk_profiles[\"individuals\"][1]\n",
    "result"
   ]
  },
  {
   "cell_type": "code",
   "execution_count": 36,
   "id": "1fc5c4f9",
   "metadata": {},
   "outputs": [
    {
     "data": {
      "text/plain": [
       "{'dot_staking': {'amount': 1000, 'apy': 2.8}}"
      ]
     },
     "execution_count": 36,
     "metadata": {},
     "output_type": "execute_result"
    }
   ],
   "source": [
    "# Q4: Delete Data  \n",
    "# Task: Remove the ETH staking entry from John Doe's staked assets.\n",
    "crypto_risk_profiles[\"individuals\"][0][\"staked_assets\"].pop(\"eth_staking\")\n",
    "result = crypto_risk_profiles[\"individuals\"][0][\"staked_assets\"]\n",
    "result"
   ]
  },
  {
   "cell_type": "code",
   "execution_count": 37,
   "id": "594a622a",
   "metadata": {},
   "outputs": [
    {
     "data": {
      "text/plain": [
       "('2024-01-01', 'Delayed')"
      ]
     },
     "execution_count": 37,
     "metadata": {},
     "output_type": "execute_result"
    }
   ],
   "source": [
    "# Q5: Read Nested Data  \n",
    "# Task: Display the latest transaction status of John Doe.\n",
    "result = crypto_risk_profiles[\"individuals\"][0][\"transaction_history\"][-1]\n",
    "result"
   ]
  },
  {
   "cell_type": "code",
   "execution_count": 38,
   "id": "01c4483b",
   "metadata": {},
   "outputs": [
    {
     "data": {
      "text/plain": [
       "5500"
      ]
     },
     "execution_count": 38,
     "metadata": {},
     "output_type": "execute_result"
    }
   ],
   "source": [
    "# Q6: Update Nested Data  \n",
    "# Task: Change the amount of Jane Smith's USDC lending to 5500.\n",
    "crypto_risk_profiles[\"individuals\"][1][\"staked_assets\"][\"usdc_lending\"][\"amount\"] =  5500\n",
    "result = crypto_risk_profiles[\"individuals\"][1][\"staked_assets\"][\"usdc_lending\"][\"amount\"] \n",
    "result"
   ]
  },
  {
   "cell_type": "code",
   "execution_count": 39,
   "id": "1a99a432",
   "metadata": {},
   "outputs": [
    {
     "data": {
      "text/plain": [
       "[('2024-01-10', 'Confirmed'),\n",
       " ('2024-01-01', 'Delayed'),\n",
       " ('2024-01-15', 'Confirmed')]"
      ]
     },
     "execution_count": 39,
     "metadata": {},
     "output_type": "execute_result"
    }
   ],
   "source": [
    "# Q7: Add Nested Data  \n",
    "# Task: Add a new transaction history entry for John Doe on \"2024-01-15\" marked as \"Confirmed\".\n",
    "crypto_risk_profiles[\"individuals\"][0][\"transaction_history\"].append(('2024-01-15', 'Confirmed'))\n",
    "result = crypto_risk_profiles[\"individuals\"][0][\"transaction_history\"]\n",
    "result"
   ]
  },
  {
   "cell_type": "code",
   "execution_count": 40,
   "id": "d92fedce",
   "metadata": {},
   "outputs": [
    {
     "data": {
      "text/plain": [
       "{'name': 'Jane Smith',\n",
       " 'defi_score': 680,\n",
       " 'staked_assets': {'usdc_lending': {'amount': 5500, 'apy': 5.0}},\n",
       " 'transaction_history': []}"
      ]
     },
     "execution_count": 40,
     "metadata": {},
     "output_type": "execute_result"
    }
   ],
   "source": [
    "# Q8: Delete an Item from a List Inside a Dictionary  \n",
    "# Task: Remove the first transaction history entry of Jane Smith.\n",
    "# crypto_risk_profiles[\"individuals\"][1][\"transaction_history\"]\n",
    "crypto_risk_profiles[\"individuals\"][1][\"transaction_history\"].pop(0)\n",
    "result = crypto_risk_profiles[\"individuals\"][1]\n",
    "result"
   ]
  }
 ],
 "metadata": {
  "kernelspec": {
   "display_name": "pythonz",
   "language": "python",
   "name": "python3"
  },
  "language_info": {
   "codemirror_mode": {
    "name": "ipython",
    "version": 3
   },
   "file_extension": ".py",
   "mimetype": "text/x-python",
   "name": "python",
   "nbconvert_exporter": "python",
   "pygments_lexer": "ipython3",
   "version": "3.13.3"
  }
 },
 "nbformat": 4,
 "nbformat_minor": 5
}
