{
 "cells": [
  {
   "cell_type": "code",
   "execution_count": 17,
   "id": "5310954e",
   "metadata": {},
   "outputs": [],
   "source": [
    "crypto_portfolio = {\n",
    "    \"investor_name\": \"Jane Doe\",\n",
    "    \"portfolio_id\": \"JD1234\",\n",
    "    \"assets\": {\n",
    "        \"tokens\": [\n",
    "            {\n",
    "                \"ticker\": \"ETH\",\n",
    "                \"quantity\": 50,\n",
    "                \"purchase_price\": 2000.00,\n",
    "                \"current_price\": 2100.00\n",
    "            },\n",
    "            {\n",
    "                \"ticker\": \"BTC\",\n",
    "                \"quantity\": 30,\n",
    "                \"purchase_price\": 40000.00,\n",
    "                \"current_price\": 41000.00\n",
    "            }\n",
    "        ],\n",
    "        \"stablecoins\": [\n",
    "            {\n",
    "                \"identifier\": \"USDC\",\n",
    "                \"quantity\": 10000,\n",
    "                \"purchase_price\": 1.00,\n",
    "                \"current_price\": 1.00,\n",
    "                \"peg_currency\": \"USD\"\n",
    "            }\n",
    "        ],\n",
    "        \"nfts\": [\n",
    "            {\n",
    "                \"name\": \"CryptoArt 123\",\n",
    "                \"quantity\": 1,\n",
    "                \"purchase_price\": 5000.00,\n",
    "                \"current_price\": 5500.00\n",
    "            }\n",
    "        ]\n",
    "    },\n",
    "    \"cash_holdings_usd\": 10000.00,\n",
    "    \"investment_goals\": {\"retirement\": 2035, \"education\": 2025}\n",
    "}\n"
   ]
  },
  {
   "cell_type": "code",
   "execution_count": 3,
   "id": "48ccb5c2",
   "metadata": {},
   "outputs": [
    {
     "name": "stdout",
     "output_type": "stream",
     "text": [
      "The current price of CryptoArt 123 is 5500.0\n"
     ]
    }
   ],
   "source": [
    "# Q1: Read Data  \n",
    "# Task: Display the current price of the NFT \"CryptoArt 123\".\n",
    "nft = crypto_portfolio['assets']['nfts'][0]['name']\n",
    "current_price = crypto_portfolio['assets']['nfts'][0]['current_price']\n",
    "print(f'The current price of {nft} is {current_price}')"
   ]
  },
  {
   "cell_type": "code",
   "execution_count": 7,
   "id": "172bf921",
   "metadata": {},
   "outputs": [],
   "source": [
    "# Q2: Write Data  \n",
    "# Task: Add a new token with ticker \"ADA\", 1000 units, a purchase price of 1.50, and a current price of 1.60 to the tokens in the assets.\n",
    "\n",
    "new_token = {\n",
    "    \"ticker\": \"ADA\",\n",
    "    \"quantity\": 1000,\n",
    "    \"purchase_price\": 1.50,\n",
    "    \"current_price\": 1.60\n",
    "}\n",
    "crypto_portfolio['assets']['tokens'].append(new_token)\n",
    "portfolio_tokens = crypto_portfolio['assets']['tokens']\n",
    "# print(portfolio_tokens)"
   ]
  },
  {
   "cell_type": "code",
   "execution_count": 12,
   "id": "33c75086",
   "metadata": {},
   "outputs": [
    {
     "name": "stdout",
     "output_type": "stream",
     "text": [
      "60\n"
     ]
    }
   ],
   "source": [
    "# Q3: Update Data  \n",
    "# Task: Update the quantity of \"ETH\" token to 60.\n",
    "portfolio_tokens = crypto_portfolio['assets']['tokens']\n",
    "portfolio_tokens[0]['quantity'] = 60\n",
    "print(portfolio_tokens[0]['quantity'])"
   ]
  },
  {
   "cell_type": "code",
   "execution_count": 16,
   "id": "649344a6",
   "metadata": {},
   "outputs": [
    {
     "name": "stdout",
     "output_type": "stream",
     "text": [
      "[]\n"
     ]
    }
   ],
   "source": [
    "# Q4: Delete Data  \n",
    "# Task: Remove the stablecoin with identifier \"USDC\" from the stablecoins in assets.\n",
    "crypto_portfolio['assets'][\"stablecoins\"].pop(0)\n",
    "portfolio_tokens = crypto_portfolio['assets'][\"stablecoins\"]\n",
    "print(portfolio_tokens)"
   ]
  },
  {
   "cell_type": "code",
   "execution_count": 20,
   "id": "6a8e29eb",
   "metadata": {},
   "outputs": [
    {
     "name": "stdout",
     "output_type": "stream",
     "text": [
      "USD\n"
     ]
    }
   ],
   "source": [
    "# Q5: Read Nested Data  \n",
    "# Task: Display the peg currency of the stablecoin in the portfolio.\n",
    "peg_currency = crypto_portfolio['assets'][\"stablecoins\"][0][\"peg_currency\"]\n",
    "print(peg_currency)\n"
   ]
  },
  {
   "cell_type": "code",
   "execution_count": 24,
   "id": "024e736a",
   "metadata": {},
   "outputs": [
    {
     "name": "stdout",
     "output_type": "stream",
     "text": [
      "BTC current price is 41500.0\n"
     ]
    }
   ],
   "source": [
    "# Q6: Update Nested Data  \n",
    "# Task: Change the current price of \"BTC\" token to 41500.00.\n",
    "crypto_portfolio['assets'][\"tokens\"][1][\"current_price\"] = 41500.00\n",
    "token = crypto_portfolio['assets'][\"tokens\"][1][\"ticker\"]\n",
    "current_price = crypto_portfolio['assets'][\"tokens\"][1][\"current_price\"]\n",
    "print(f'{token} current price is {current_price}')"
   ]
  },
  {
   "cell_type": "code",
   "execution_count": 29,
   "id": "462ed76e",
   "metadata": {},
   "outputs": [
    {
     "name": "stdout",
     "output_type": "stream",
     "text": [
      "{'retirement': 2035, 'education': 2025, 'vacation': 2028}\n"
     ]
    }
   ],
   "source": [
    "# Q7: Add Nested Data  \n",
    "# Task: Add a new goal \"vacation\" set for the year 2028 in the investment goals.\n",
    "crypto_portfolio[\"investment_goals\"][\"vacation\"]  = 2028\n",
    "goals = crypto_portfolio[\"investment_goals\"]\n",
    "print(goals)\n"
   ]
  },
  {
   "cell_type": "code",
   "execution_count": 34,
   "id": "6479ca0c",
   "metadata": {},
   "outputs": [
    {
     "name": "stdout",
     "output_type": "stream",
     "text": [
      "[]\n"
     ]
    }
   ],
   "source": [
    "# Q8: Delete an Item from a List Inside a Dictionary  \n",
    "# Task: Remove the NFT \"CryptoArt 123\" from the portfolio.\n",
    "crypto_portfolio[\"assets\"][\"nfts\"].pop(0)\n",
    "portfolio = crypto_portfolio[\"assets\"][\"nfts\"]\n",
    "print(portfolio)"
   ]
  }
 ],
 "metadata": {
  "kernelspec": {
   "display_name": "pythonz",
   "language": "python",
   "name": "python3"
  },
  "language_info": {
   "codemirror_mode": {
    "name": "ipython",
    "version": 3
   },
   "file_extension": ".py",
   "mimetype": "text/x-python",
   "name": "python",
   "nbconvert_exporter": "python",
   "pygments_lexer": "ipython3",
   "version": "3.13.3"
  }
 },
 "nbformat": 4,
 "nbformat_minor": 5
}
