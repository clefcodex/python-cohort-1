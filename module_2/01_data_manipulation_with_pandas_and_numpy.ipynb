{
 "cells": [
  {
   "cell_type": "markdown",
   "id": "b1be9a0a",
   "metadata": {},
   "source": [
    "# Data Manipulation with Pandas and NumPy\n",
    "\n",
    "Data manipulation is the process of changing, organizing, or transforming data to make it more useful, readable, or suitable for analysis. It involves tasks like cleaning, filtering, sorting, grouping, or calculating new values from existing data.\n",
    "\n",
    "Tools like Pandas and NumPy, popular Python libraries, are often used to streamline these tasks. Pandas excels at handling structured data, like tables of crypto trades, for filtering or grouping, while NumPy supports fast numerical computations, such as calculating average prices or returns.\n",
    "\n",
    "For instance, a crypto investor might manipulate data by filtering trades to show only Bitcoin transactions over $5,000, sorting them by timestamp to track price movements, and aggregating daily totals to assess trading volume. This helps uncover trends, optimize strategies, and ensure data accuracy, ultimately supporting better decisions in the fast-paced crypto market."
   ]
  },
  {
   "cell_type": "markdown",
   "id": "04e9132c",
   "metadata": {},
   "source": [
    "# Pandas\n",
    "\n",
    "Pandas is a popular Python library used for working with data. It helps you load, clean, analyze, and manipulate data easily. Think of it like an Excel spreadsheet in Python! It’s great for handling tables of data.\n",
    "\n",
    "# Key Concepts\n",
    "Series: A single column of data (like a list with labels).\n",
    "\n",
    "Index: Labels for rows, helping you identify and access data.\n",
    "\n",
    "You can load data from files (CSV, Excel, etc.), manipulate it, and save it back."
   ]
  },
  {
   "cell_type": "markdown",
   "id": "297a8787",
   "metadata": {},
   "source": [
    "### Installing / Importing Pandas"
   ]
  },
  {
   "cell_type": "code",
   "execution_count": 1,
   "id": "87cb56f0",
   "metadata": {},
   "outputs": [],
   "source": [
    "import pandas as pd"
   ]
  },
  {
   "cell_type": "markdown",
   "id": "f9001aff",
   "metadata": {},
   "source": [
    "# Create a DataFrame\n",
    "\n",
    "A DataFrame is like a table with rows and columns. Let’s create one with sample cryptocurrency data (e.g., coin names, prices, and trade volumes)."
   ]
  },
  {
   "cell_type": "code",
   "execution_count": 2,
   "id": "f28a2995",
   "metadata": {},
   "outputs": [
    {
     "name": "stdout",
     "output_type": "stream",
     "text": [
      "       Coin     Price  Volume\n",
      "0   Bitcoin  45000.00   15000\n",
      "1  Ethereum   3000.00        \n",
      "2    Ripple      0.85  200000\n",
      "3  Litecoin    120.00   50000\n"
     ]
    }
   ],
   "source": [
    "# Create a dictionary with crypto data\n",
    "\n",
    "data = {\n",
    "    'Coin': ['Bitcoin', 'Ethereum', 'Ripple', 'Litecoin'],\n",
    "    'Price': [45000,3000, 0.85, 120],\n",
    "    'Volume': [15000, \" \", 200000, 50000]\n",
    "}\n",
    "\n",
    "df = pd.DataFrame(data)\n",
    "\n",
    "print(df)"
   ]
  },
  {
   "cell_type": "markdown",
   "id": "8ec26387",
   "metadata": {},
   "source": [
    "#### Explore Data"
   ]
  },
  {
   "cell_type": "code",
   "execution_count": 3,
   "id": "af373344",
   "metadata": {},
   "outputs": [
    {
     "data": {
      "text/html": [
       "<div>\n",
       "<style scoped>\n",
       "    .dataframe tbody tr th:only-of-type {\n",
       "        vertical-align: middle;\n",
       "    }\n",
       "\n",
       "    .dataframe tbody tr th {\n",
       "        vertical-align: top;\n",
       "    }\n",
       "\n",
       "    .dataframe thead th {\n",
       "        text-align: right;\n",
       "    }\n",
       "</style>\n",
       "<table border=\"1\" class=\"dataframe\">\n",
       "  <thead>\n",
       "    <tr style=\"text-align: right;\">\n",
       "      <th></th>\n",
       "      <th>Coin</th>\n",
       "      <th>Price</th>\n",
       "      <th>Volume</th>\n",
       "    </tr>\n",
       "  </thead>\n",
       "  <tbody>\n",
       "    <tr>\n",
       "      <th>0</th>\n",
       "      <td>Bitcoin</td>\n",
       "      <td>45000.00</td>\n",
       "      <td>15000</td>\n",
       "    </tr>\n",
       "    <tr>\n",
       "      <th>1</th>\n",
       "      <td>Ethereum</td>\n",
       "      <td>3000.00</td>\n",
       "      <td>8000</td>\n",
       "    </tr>\n",
       "    <tr>\n",
       "      <th>2</th>\n",
       "      <td>Ripple</td>\n",
       "      <td>0.85</td>\n",
       "      <td>200000</td>\n",
       "    </tr>\n",
       "    <tr>\n",
       "      <th>3</th>\n",
       "      <td>Litecoin</td>\n",
       "      <td>120.00</td>\n",
       "      <td>50000</td>\n",
       "    </tr>\n",
       "  </tbody>\n",
       "</table>\n",
       "</div>"
      ],
      "text/plain": [
       "       Coin     Price  Volume\n",
       "0   Bitcoin  45000.00   15000\n",
       "1  Ethereum   3000.00    8000\n",
       "2    Ripple      0.85  200000\n",
       "3  Litecoin    120.00   50000"
      ]
     },
     "execution_count": 3,
     "metadata": {},
     "output_type": "execute_result"
    }
   ],
   "source": [
    "df"
   ]
  },
  {
   "cell_type": "code",
   "execution_count": 4,
   "id": "0c658452",
   "metadata": {},
   "outputs": [
    {
     "name": "stdout",
     "output_type": "stream",
     "text": [
      "       Coin    Price  Volume\n",
      "0   Bitcoin  45000.0   15000\n",
      "1  Ethereum   3000.0    8000\n"
     ]
    }
   ],
   "source": [
    "print(df.head(2))"
   ]
  },
  {
   "cell_type": "code",
   "execution_count": 5,
   "id": "d04035ab",
   "metadata": {},
   "outputs": [
    {
     "name": "stdout",
     "output_type": "stream",
     "text": [
      "       Coin   Price  Volume\n",
      "2    Ripple    0.85  200000\n",
      "3  Litecoin  120.00   50000\n"
     ]
    }
   ],
   "source": [
    "print(df.tail(2))"
   ]
  },
  {
   "cell_type": "code",
   "execution_count": 7,
   "id": "73ff218a",
   "metadata": {},
   "outputs": [
    {
     "data": {
      "text/html": [
       "<div>\n",
       "<style scoped>\n",
       "    .dataframe tbody tr th:only-of-type {\n",
       "        vertical-align: middle;\n",
       "    }\n",
       "\n",
       "    .dataframe tbody tr th {\n",
       "        vertical-align: top;\n",
       "    }\n",
       "\n",
       "    .dataframe thead th {\n",
       "        text-align: right;\n",
       "    }\n",
       "</style>\n",
       "<table border=\"1\" class=\"dataframe\">\n",
       "  <thead>\n",
       "    <tr style=\"text-align: right;\">\n",
       "      <th></th>\n",
       "      <th>Coin</th>\n",
       "      <th>Price</th>\n",
       "      <th>Volume</th>\n",
       "    </tr>\n",
       "  </thead>\n",
       "  <tbody>\n",
       "    <tr>\n",
       "      <th>0</th>\n",
       "      <td>Bitcoin</td>\n",
       "      <td>45000.0</td>\n",
       "      <td>15000</td>\n",
       "    </tr>\n",
       "    <tr>\n",
       "      <th>1</th>\n",
       "      <td>Ethereum</td>\n",
       "      <td>3000.0</td>\n",
       "      <td>8000</td>\n",
       "    </tr>\n",
       "  </tbody>\n",
       "</table>\n",
       "</div>"
      ],
      "text/plain": [
       "       Coin    Price  Volume\n",
       "0   Bitcoin  45000.0   15000\n",
       "1  Ethereum   3000.0    8000"
      ]
     },
     "execution_count": 7,
     "metadata": {},
     "output_type": "execute_result"
    }
   ],
   "source": [
    "df.head(2)"
   ]
  },
  {
   "cell_type": "markdown",
   "id": "f9773cb7",
   "metadata": {},
   "source": [
    "## Get Info"
   ]
  },
  {
   "cell_type": "code",
   "execution_count": 13,
   "id": "9e4ce0d9",
   "metadata": {},
   "outputs": [
    {
     "name": "stdout",
     "output_type": "stream",
     "text": [
      "<class 'pandas.core.frame.DataFrame'>\n",
      "RangeIndex: 4 entries, 0 to 3\n",
      "Data columns (total 3 columns):\n",
      " #   Column  Non-Null Count  Dtype  \n",
      "---  ------  --------------  -----  \n",
      " 0   Coin    4 non-null      object \n",
      " 1   Price   4 non-null      float64\n",
      " 2   Volume  4 non-null      object \n",
      "dtypes: float64(1), object(2)\n",
      "memory usage: 224.0+ bytes\n",
      "None\n"
     ]
    }
   ],
   "source": [
    "print(df.info())"
   ]
  },
  {
   "cell_type": "markdown",
   "id": "d378541f",
   "metadata": {},
   "source": [
    "### Basic Data Manipulation"
   ]
  },
  {
   "cell_type": "code",
   "execution_count": 14,
   "id": "60aedc61",
   "metadata": {},
   "outputs": [
    {
     "name": "stdout",
     "output_type": "stream",
     "text": [
      "       Coin     Price\n",
      "0   Bitcoin  45000.00\n",
      "1  Ethereum   3000.00\n",
      "2    Ripple      0.85\n",
      "3  Litecoin    120.00\n"
     ]
    }
   ],
   "source": [
    "# select a specific column\n",
    "\n",
    "print(df[['Coin', 'Price']])"
   ]
  },
  {
   "cell_type": "markdown",
   "id": "eb1b7197",
   "metadata": {},
   "source": [
    "### Filter Rows"
   ]
  },
  {
   "cell_type": "code",
   "execution_count": 16,
   "id": "57b536f9",
   "metadata": {},
   "outputs": [
    {
     "name": "stdout",
     "output_type": "stream",
     "text": [
      "       Coin    Price Volume\n",
      "0   Bitcoin  45000.0  15000\n",
      "1  Ethereum   3000.0       \n",
      "3  Litecoin    120.0  50000\n"
     ]
    }
   ],
   "source": [
    "print(df[df['Price'] > 100])"
   ]
  },
  {
   "cell_type": "markdown",
   "id": "a0446777",
   "metadata": {},
   "source": [
    "### Sort Data\n",
    "\n",
    "Sort by a column like Price in ascending or descending order"
   ]
  },
  {
   "cell_type": "code",
   "execution_count": null,
   "id": "87dabdd5",
   "metadata": {},
   "outputs": [
    {
     "name": "stdout",
     "output_type": "stream",
     "text": [
      "       Coin     Price  Volume\n",
      "2    Ripple      0.85  200000\n",
      "3  Litecoin    120.00   50000\n",
      "1  Ethereum   3000.00        \n",
      "0   Bitcoin  45000.00   15000\n"
     ]
    }
   ],
   "source": [
    "print(df.sort_values('Price')) # ascending order "
   ]
  },
  {
   "cell_type": "code",
   "execution_count": null,
   "id": "219ab091",
   "metadata": {},
   "outputs": [
    {
     "name": "stdout",
     "output_type": "stream",
     "text": [
      "       Coin     Price  Volume\n",
      "0   Bitcoin  45000.00   15000\n",
      "1  Ethereum   3000.00        \n",
      "3  Litecoin    120.00   50000\n",
      "2    Ripple      0.85  200000\n"
     ]
    }
   ],
   "source": [
    "print(df.sort_values('Price', ascending=False)) # Sort in descending order"
   ]
  },
  {
   "cell_type": "markdown",
   "id": "5a916150",
   "metadata": {},
   "source": [
    "## Add new column"
   ]
  },
  {
   "cell_type": "code",
   "execution_count": 21,
   "id": "fbf1edfa",
   "metadata": {},
   "outputs": [
    {
     "name": "stdout",
     "output_type": "stream",
     "text": [
      "       Coin     Price  Volume  Price_after_2Pct\n",
      "0   Bitcoin  45000.00   15000         45900.000\n",
      "1  Ethereum   3000.00                  3060.000\n",
      "2    Ripple      0.85  200000             0.867\n",
      "3  Litecoin    120.00   50000           122.400\n"
     ]
    }
   ],
   "source": [
    "df['Price_after_2Pct'] = df['Price'] * 1.02\n",
    "print(df)"
   ]
  },
  {
   "cell_type": "code",
   "execution_count": 22,
   "id": "4355449d",
   "metadata": {},
   "outputs": [
    {
     "data": {
      "text/html": [
       "<div>\n",
       "<style scoped>\n",
       "    .dataframe tbody tr th:only-of-type {\n",
       "        vertical-align: middle;\n",
       "    }\n",
       "\n",
       "    .dataframe tbody tr th {\n",
       "        vertical-align: top;\n",
       "    }\n",
       "\n",
       "    .dataframe thead th {\n",
       "        text-align: right;\n",
       "    }\n",
       "</style>\n",
       "<table border=\"1\" class=\"dataframe\">\n",
       "  <thead>\n",
       "    <tr style=\"text-align: right;\">\n",
       "      <th></th>\n",
       "      <th>Price</th>\n",
       "      <th>Price_after_2Pct</th>\n",
       "    </tr>\n",
       "  </thead>\n",
       "  <tbody>\n",
       "    <tr>\n",
       "      <th>count</th>\n",
       "      <td>4.000000</td>\n",
       "      <td>4.000000</td>\n",
       "    </tr>\n",
       "    <tr>\n",
       "      <th>mean</th>\n",
       "      <td>12030.212500</td>\n",
       "      <td>12270.816750</td>\n",
       "    </tr>\n",
       "    <tr>\n",
       "      <th>std</th>\n",
       "      <td>22023.550649</td>\n",
       "      <td>22464.021662</td>\n",
       "    </tr>\n",
       "    <tr>\n",
       "      <th>min</th>\n",
       "      <td>0.850000</td>\n",
       "      <td>0.867000</td>\n",
       "    </tr>\n",
       "    <tr>\n",
       "      <th>25%</th>\n",
       "      <td>90.212500</td>\n",
       "      <td>92.016750</td>\n",
       "    </tr>\n",
       "    <tr>\n",
       "      <th>50%</th>\n",
       "      <td>1560.000000</td>\n",
       "      <td>1591.200000</td>\n",
       "    </tr>\n",
       "    <tr>\n",
       "      <th>75%</th>\n",
       "      <td>13500.000000</td>\n",
       "      <td>13770.000000</td>\n",
       "    </tr>\n",
       "    <tr>\n",
       "      <th>max</th>\n",
       "      <td>45000.000000</td>\n",
       "      <td>45900.000000</td>\n",
       "    </tr>\n",
       "  </tbody>\n",
       "</table>\n",
       "</div>"
      ],
      "text/plain": [
       "              Price  Price_after_2Pct\n",
       "count      4.000000          4.000000\n",
       "mean   12030.212500      12270.816750\n",
       "std    22023.550649      22464.021662\n",
       "min        0.850000          0.867000\n",
       "25%       90.212500         92.016750\n",
       "50%     1560.000000       1591.200000\n",
       "75%    13500.000000      13770.000000\n",
       "max    45000.000000      45900.000000"
      ]
     },
     "execution_count": 22,
     "metadata": {},
     "output_type": "execute_result"
    }
   ],
   "source": [
    "df.describe()"
   ]
  },
  {
   "cell_type": "code",
   "execution_count": 24,
   "id": "b16461cc",
   "metadata": {},
   "outputs": [],
   "source": [
    "df.to_csv('crypto_data.csv', index=False)"
   ]
  },
  {
   "cell_type": "markdown",
   "id": "5b963d15",
   "metadata": {},
   "source": [
    "# Numpy \n",
    "\n",
    "NumPy is a powerful Python library for numerical computations, especially useful for working with arrays (lists of numbers) and performing fast mathematical operations. It’s a foundation for data manipulation, often used alongside Pandas, and is great for tasks like calculations, statistics, and handling crypto-related data. Below, I’ll walk you through the basics step by step—installing NumPy, creating arrays, and performing common operations with simple code. This is beginner-friendly and straightforward."
   ]
  },
  {
   "cell_type": "markdown",
   "id": "d710bf68",
   "metadata": {},
   "source": [
    "#### Installing and Importing Numpy"
   ]
  },
  {
   "cell_type": "code",
   "execution_count": 4,
   "id": "bb45934b",
   "metadata": {},
   "outputs": [],
   "source": [
    "import numpy as np"
   ]
  },
  {
   "cell_type": "markdown",
   "id": "79da1165",
   "metadata": {},
   "source": [
    "### Create a Numpy Array\n",
    "\n",
    "A NumPy array is like a list but optimized for math and faster operations. Let’s create arrays with sample cryptocurrency data (e.g., coin prices and trade volumes)."
   ]
  },
  {
   "cell_type": "code",
   "execution_count": 5,
   "id": "333b1ce0",
   "metadata": {},
   "outputs": [
    {
     "name": "stdout",
     "output_type": "stream",
     "text": [
      "[45000 50000 40000 20000]\n"
     ]
    }
   ],
   "source": [
    "prices = np.array([45000, 50000, 40000, 20000])\n",
    "print(prices)\n"
   ]
  },
  {
   "cell_type": "code",
   "execution_count": 6,
   "id": "0932f305",
   "metadata": {},
   "outputs": [
    {
     "name": "stdout",
     "output_type": "stream",
     "text": [
      "(4,)\n"
     ]
    }
   ],
   "source": [
    "print(prices.shape)"
   ]
  },
  {
   "cell_type": "markdown",
   "id": "917f3284",
   "metadata": {},
   "source": [
    "Data Type"
   ]
  },
  {
   "cell_type": "code",
   "execution_count": 7,
   "id": "8cb7a30c",
   "metadata": {},
   "outputs": [
    {
     "name": "stdout",
     "output_type": "stream",
     "text": [
      "int64\n"
     ]
    }
   ],
   "source": [
    "print(prices.dtype)"
   ]
  },
  {
   "cell_type": "markdown",
   "id": "e05aa139",
   "metadata": {},
   "source": [
    "### Basic Data Manipulation"
   ]
  },
  {
   "cell_type": "code",
   "execution_count": null,
   "id": "b5097150",
   "metadata": {},
   "outputs": [
    {
     "name": "stdout",
     "output_type": "stream",
     "text": [
      "[46000 51000 41000 21000]\n"
     ]
    }
   ],
   "source": [
    "# Add 1000 to all prices\n",
    "\n",
    "prices = np.array([45000, 50000, 40000, 20000])\n",
    "\n",
    "prices_plus_100 = prices + 1000\n",
    "\n",
    "print(prices_plus_100)"
   ]
  },
  {
   "cell_type": "code",
   "execution_count": 8,
   "id": "dd898e3c",
   "metadata": {},
   "outputs": [
    {
     "name": "stdout",
     "output_type": "stream",
     "text": [
      "[45900. 51000. 40800. 20400.]\n"
     ]
    }
   ],
   "source": [
    "# Compute for 2% increase in price \n",
    "\n",
    "price_s = np.array([46000, 51000, 41000, 21000])\n",
    "\n",
    "price_increase = prices * 1.02\n",
    "\n",
    "print(price_increase)\n",
    "\n"
   ]
  },
  {
   "cell_type": "code",
   "execution_count": 32,
   "id": "92bc001e",
   "metadata": {},
   "outputs": [
    {
     "name": "stdout",
     "output_type": "stream",
     "text": [
      "[46000 51000 41000 21000]\n"
     ]
    }
   ],
   "source": [
    "# filter data\n",
    "\n",
    "higher_price = price_s[price_s > 20000 ]\n",
    "print(higher_price)"
   ]
  },
  {
   "cell_type": "markdown",
   "id": "14453394",
   "metadata": {},
   "source": [
    "## Basic Statistical Functions"
   ]
  },
  {
   "cell_type": "code",
   "execution_count": 34,
   "id": "81db794f",
   "metadata": {},
   "outputs": [
    {
     "name": "stdout",
     "output_type": "stream",
     "text": [
      "\n",
      "Statistics for Volume: \n",
      "Mean (Average):  275000.0\n",
      "Minimum:  100000\n",
      "Maximum:  500000\n",
      "Sum:  1100000\n",
      "Standard Dev (Volatility):  147901.9945774904\n"
     ]
    }
   ],
   "source": [
    "volume = np.array([500000, 300000, 200000, 100000])\n",
    "\n",
    "print(\"\\nStatistics for Volume: \")\n",
    "\n",
    "print(\"Mean (Average): \", np.mean(volume)) # Average Volume\n",
    "print(\"Minimum: \", np.min(volume)) # Minimum volume\n",
    "print(\"Maximum: \", np.max(volume)) # Maximum Volume\n",
    "print(\"Sum: \", np.sum(volume)) # Total sum pf volumes\n",
    "print(\"Standard Dev (Volatility): \", np.std(volume))"
   ]
  },
  {
   "cell_type": "markdown",
   "id": "cd3296b0",
   "metadata": {},
   "source": [
    "### Work with 2D Arrays\n",
    "\n",
    "NumPy can handle multi-dimensional arrays. Let’s combine our data into a 2D array (like a table)."
   ]
  },
  {
   "cell_type": "code",
   "execution_count": null,
   "id": "b37ca035",
   "metadata": {},
   "outputs": [
    {
     "name": "stdout",
     "output_type": "stream",
     "text": [
      "[[45000  5000]\n",
      " [30000 28000]\n",
      " [11998  8943]]\n"
     ]
    }
   ],
   "source": [
    "# Create 2D array\n",
    "\n",
    "crypto_data = np.array([\n",
    "    [45000, 5000],\n",
    "    [30000, 28000],\n",
    "    [11998, 8943]\n",
    "])\n",
    "\n",
    "\n",
    "print(crypto_data)"
   ]
  },
  {
   "cell_type": "code",
   "execution_count": 38,
   "id": "c8721e28",
   "metadata": {},
   "outputs": [
    {
     "data": {
      "text/plain": [
       "array([11998,  8943])"
      ]
     },
     "execution_count": 38,
     "metadata": {},
     "output_type": "execute_result"
    }
   ],
   "source": [
    "# Access Row\n",
    "\n",
    "crypto_data[2]"
   ]
  },
  {
   "cell_type": "code",
   "execution_count": 40,
   "id": "950cd4e3",
   "metadata": {},
   "outputs": [
    {
     "data": {
      "text/plain": [
       "array([ 5000, 28000,  8943])"
      ]
     },
     "execution_count": 40,
     "metadata": {},
     "output_type": "execute_result"
    }
   ],
   "source": [
    "# Access Column\n",
    "\n",
    "crypto_data[:,1]"
   ]
  },
  {
   "cell_type": "code",
   "execution_count": null,
   "id": "09b43a2d",
   "metadata": {},
   "outputs": [],
   "source": []
  }
 ],
 "metadata": {
  "kernelspec": {
   "display_name": "pythonz",
   "language": "python",
   "name": "python3"
  },
  "language_info": {
   "codemirror_mode": {
    "name": "ipython",
    "version": 3
   },
   "file_extension": ".py",
   "mimetype": "text/x-python",
   "name": "python",
   "nbconvert_exporter": "python",
   "pygments_lexer": "ipython3",
   "version": "3.13.3"
  }
 },
 "nbformat": 4,
 "nbformat_minor": 5
}
